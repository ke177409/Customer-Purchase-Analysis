{
 "cells": [
  {
   "cell_type": "markdown",
   "id": "8b059e24",
   "metadata": {},
   "source": [
    "### This script contains the following points:\n",
    "\n",
    "#### 1. Importing libraries and full_merge data\n",
    "#### 2. Checking for personally identifiable information (PII)\n",
    "#### 3. Create Region column for each state\n",
    "#### 4. Flag and remove low activity users\n",
    "#### 5. Create customer profiles\n",
    "#### 6. Visualizations of customer profiles\n",
    "#### 7. Aggregations for customer profiles\n",
    "#### 8. Regions and departments\n",
    "#### 9. Export data and visuals"
   ]
  },
  {
   "cell_type": "markdown",
   "id": "c4f8a3bf",
   "metadata": {},
   "source": [
    "# 1. Importing libraries and full_merge data"
   ]
  },
  {
   "cell_type": "code",
   "execution_count": 1,
   "id": "bbe3e8b8",
   "metadata": {},
   "outputs": [],
   "source": [
    "import pandas as pd\n",
    "import numpy as np\n",
    "import os\n",
    "import matplotlib.pyplot as plt\n",
    "import seaborn as sns\n",
    "import scipy"
   ]
  },
  {
   "cell_type": "code",
   "execution_count": 2,
   "id": "3dc3e517",
   "metadata": {},
   "outputs": [],
   "source": [
    "# complete data set including orders, products, and customers\n",
    "\n",
    "full_merge = pd.read_pickle(r'C:\\Users\\kevan\\Documents\\Career Foundry\\Data Immersion\\Achievement 4\\Instacart Basket Analysis\\02 Data\\Prepared Data\\full_merge.pkl')"
   ]
  },
  {
   "cell_type": "code",
   "execution_count": 3,
   "id": "a5f7efb2",
   "metadata": {},
   "outputs": [],
   "source": [
    "# assigning main project path to variable 'path'\n",
    "\n",
    "path = r'C:\\Users\\kevan\\Documents\\Career Foundry\\Data Immersion\\Achievement 4\\Instacart Basket Analysis'"
   ]
  },
  {
   "cell_type": "code",
   "execution_count": 4,
   "id": "7d7c51cb",
   "metadata": {},
   "outputs": [],
   "source": [
    "# expanding column view\n",
    "\n",
    "pd.set_option('display.max_columns', 35)"
   ]
  },
  {
   "cell_type": "code",
   "execution_count": 5,
   "id": "92a8d250",
   "metadata": {},
   "outputs": [],
   "source": [
    "# expanding row view\n",
    "\n",
    "pd.set_option('display.max_rows', None)"
   ]
  },
  {
   "cell_type": "markdown",
   "id": "082a2d9d",
   "metadata": {},
   "source": [
    "# 2. Checking for personally identifiable information (PII)"
   ]
  },
  {
   "cell_type": "code",
   "execution_count": 6,
   "id": "269f527a",
   "metadata": {},
   "outputs": [
    {
     "data": {
      "text/html": [
       "<div>\n",
       "<style scoped>\n",
       "    .dataframe tbody tr th:only-of-type {\n",
       "        vertical-align: middle;\n",
       "    }\n",
       "\n",
       "    .dataframe tbody tr th {\n",
       "        vertical-align: top;\n",
       "    }\n",
       "\n",
       "    .dataframe thead th {\n",
       "        text-align: right;\n",
       "    }\n",
       "</style>\n",
       "<table border=\"1\" class=\"dataframe\">\n",
       "  <thead>\n",
       "    <tr style=\"text-align: right;\">\n",
       "      <th></th>\n",
       "      <th>order_id</th>\n",
       "      <th>user_id</th>\n",
       "      <th>order_number</th>\n",
       "      <th>orders_day_of_week</th>\n",
       "      <th>order_hour_of_day</th>\n",
       "      <th>days_since_prior_order</th>\n",
       "      <th>product_id</th>\n",
       "      <th>add_to_cart_order</th>\n",
       "      <th>reordered</th>\n",
       "      <th>product_name</th>\n",
       "      <th>aisle_id</th>\n",
       "      <th>department_id</th>\n",
       "      <th>prices</th>\n",
       "      <th>price_range_loc</th>\n",
       "      <th>busiest_day</th>\n",
       "      <th>busiest_period_of_day</th>\n",
       "      <th>max_order</th>\n",
       "      <th>loyalty_flag</th>\n",
       "      <th>average_price</th>\n",
       "      <th>spending_flag</th>\n",
       "      <th>median_days_prior_order</th>\n",
       "      <th>frequency_flag</th>\n",
       "      <th>First Name</th>\n",
       "      <th>Surname</th>\n",
       "      <th>Sex</th>\n",
       "      <th>State</th>\n",
       "      <th>Age</th>\n",
       "      <th>Date Joined</th>\n",
       "      <th>Number Dependents</th>\n",
       "      <th>Family Status</th>\n",
       "      <th>Income</th>\n",
       "    </tr>\n",
       "  </thead>\n",
       "  <tbody>\n",
       "    <tr>\n",
       "      <th>0</th>\n",
       "      <td>2539329</td>\n",
       "      <td>1</td>\n",
       "      <td>1</td>\n",
       "      <td>2</td>\n",
       "      <td>8</td>\n",
       "      <td>NaN</td>\n",
       "      <td>196</td>\n",
       "      <td>1</td>\n",
       "      <td>0</td>\n",
       "      <td>Soda</td>\n",
       "      <td>77</td>\n",
       "      <td>7</td>\n",
       "      <td>9.0</td>\n",
       "      <td>Mid-range product</td>\n",
       "      <td>Regularly busy</td>\n",
       "      <td>Average orders</td>\n",
       "      <td>10</td>\n",
       "      <td>New customer</td>\n",
       "      <td>6</td>\n",
       "      <td>Low spender</td>\n",
       "      <td>20.5</td>\n",
       "      <td>Non-frequent customer</td>\n",
       "      <td>Linda</td>\n",
       "      <td>Nguyen</td>\n",
       "      <td>Female</td>\n",
       "      <td>Alabama</td>\n",
       "      <td>31</td>\n",
       "      <td>2/17/2019</td>\n",
       "      <td>3</td>\n",
       "      <td>married</td>\n",
       "      <td>40423</td>\n",
       "    </tr>\n",
       "  </tbody>\n",
       "</table>\n",
       "</div>"
      ],
      "text/plain": [
       "  order_id user_id  order_number  orders_day_of_week  order_hour_of_day  \\\n",
       "0  2539329       1             1                   2                  8   \n",
       "\n",
       "   days_since_prior_order product_id  add_to_cart_order reordered  \\\n",
       "0                     NaN        196                  1         0   \n",
       "\n",
       "  product_name aisle_id department_id  prices    price_range_loc  \\\n",
       "0         Soda       77             7     9.0  Mid-range product   \n",
       "\n",
       "      busiest_day busiest_period_of_day  max_order  loyalty_flag  \\\n",
       "0  Regularly busy        Average orders         10  New customer   \n",
       "\n",
       "   average_price spending_flag  median_days_prior_order  \\\n",
       "0              6   Low spender                     20.5   \n",
       "\n",
       "          frequency_flag First Name Surname     Sex    State  Age Date Joined  \\\n",
       "0  Non-frequent customer      Linda  Nguyen  Female  Alabama   31   2/17/2019   \n",
       "\n",
       "   Number Dependents Family Status  Income  \n",
       "0                  3       married   40423  "
      ]
     },
     "execution_count": 6,
     "metadata": {},
     "output_type": "execute_result"
    }
   ],
   "source": [
    "# checking headers and first row of data to detect any PII\n",
    "\n",
    "full_merge.head(1)"
   ]
  },
  {
   "cell_type": "markdown",
   "id": "8dc947d7",
   "metadata": {},
   "source": [
    "### First name and Surname are PII. These columns will need to be removed to protect user privacy."
   ]
  },
  {
   "cell_type": "code",
   "execution_count": 4,
   "id": "5453098a",
   "metadata": {},
   "outputs": [],
   "source": [
    "# dropping columns that contain PII\n",
    "\n",
    "full_merge.drop(['First Name', 'Surname'], axis = 1, inplace = True)"
   ]
  },
  {
   "cell_type": "code",
   "execution_count": 8,
   "id": "5f5f78a9",
   "metadata": {},
   "outputs": [
    {
     "data": {
      "text/plain": [
       "Index(['order_id', 'user_id', 'order_number', 'orders_day_of_week',\n",
       "       'order_hour_of_day', 'days_since_prior_order', 'product_id',\n",
       "       'add_to_cart_order', 'reordered', 'product_name', 'aisle_id',\n",
       "       'department_id', 'prices', 'price_range_loc', 'busiest_day',\n",
       "       'busiest_period_of_day', 'max_order', 'loyalty_flag', 'average_price',\n",
       "       'spending_flag', 'median_days_prior_order', 'frequency_flag', 'Sex',\n",
       "       'State', 'Age', 'Date Joined', 'Number Dependents', 'Family Status',\n",
       "       'Income'],\n",
       "      dtype='object')"
      ]
     },
     "execution_count": 8,
     "metadata": {},
     "output_type": "execute_result"
    }
   ],
   "source": [
    "# verifying that columns were dropped\n",
    "\n",
    "full_merge.columns"
   ]
  },
  {
   "cell_type": "markdown",
   "id": "8f6eca13",
   "metadata": {},
   "source": [
    "# 3. Create Region column for each state"
   ]
  },
  {
   "cell_type": "code",
   "execution_count": 5,
   "id": "8620ddbf",
   "metadata": {},
   "outputs": [],
   "source": [
    "# defining each region and creating a list of states\n",
    "\n",
    "Region_1 = ['Maine', 'New Hampshire', 'Vermont', 'Massachusetts', 'Rhode Island', 'Connecticut', 'New York', 'Pennsylvania', 'New Jersey']"
   ]
  },
  {
   "cell_type": "code",
   "execution_count": 6,
   "id": "24867c5e",
   "metadata": {},
   "outputs": [],
   "source": [
    "Region_2 = ['Wisconsin', 'Michigan', 'Illinois', 'Indiana', 'Ohio', 'North Dakota', 'South Dakota', 'Nebraska', 'Kansas', 'Minnesota', 'Iowa', 'Missouri']"
   ]
  },
  {
   "cell_type": "code",
   "execution_count": 7,
   "id": "3d3f8503",
   "metadata": {},
   "outputs": [],
   "source": [
    "Region_3 = ['Delaware', 'Maryland', 'District of Columbia', 'Virginia', 'West Virginia', 'North Carolina', 'South Carolina', 'Georgia', 'Florida', 'Kentucky', 'Tennessee', 'Mississippi', 'Alabama', 'Oklahoma', 'Texas', 'Arkansas', 'Louisiana']"
   ]
  },
  {
   "cell_type": "code",
   "execution_count": 8,
   "id": "224095ad",
   "metadata": {},
   "outputs": [],
   "source": [
    "Region_4 = ['Idaho', 'Montana', 'Wyoming', 'Nevada', 'Utah', 'Colorado', 'Arizona', 'New Mexico', 'Alaska', 'Washington', 'Oregon', 'California', 'Hawaii']"
   ]
  },
  {
   "cell_type": "code",
   "execution_count": 9,
   "id": "3986e229",
   "metadata": {},
   "outputs": [],
   "source": [
    "# creating a condition that does NOT overwrite the previous condition. if conditions not met, value is NaN\n",
    "\n",
    "full_merge['Region'] = full_merge['State'].apply(lambda x: 'Region 1' if x in Region_1 else\n",
    "                                                 'Region 2' if x in Region_2 else\n",
    "                                                 'Region 3' if x in Region_3 else\n",
    "                                                 'Region 4' if x in Region_4 else np.nan)"
   ]
  },
  {
   "cell_type": "code",
   "execution_count": 14,
   "id": "017292e6",
   "metadata": {},
   "outputs": [
    {
     "data": {
      "text/plain": [
       "Region\n",
       "Region 3    10791885\n",
       "Region 4     8292913\n",
       "Region 2     7597325\n",
       "Region 1     5722736\n",
       "dtype: int64"
      ]
     },
     "execution_count": 14,
     "metadata": {},
     "output_type": "execute_result"
    }
   ],
   "source": [
    "# verifying that all regions have counts and that they add up to the number of rows in dataframe\n",
    "\n",
    "full_merge.value_counts('Region')"
   ]
  },
  {
   "cell_type": "code",
   "execution_count": 15,
   "id": "ecc4f759",
   "metadata": {},
   "outputs": [
    {
     "data": {
      "text/plain": [
       "(32404859, 30)"
      ]
     },
     "execution_count": 15,
     "metadata": {},
     "output_type": "execute_result"
    }
   ],
   "source": [
    "# verifying that Region column was added\n",
    "\n",
    "full_merge.shape"
   ]
  },
  {
   "cell_type": "markdown",
   "id": "1cb8e305",
   "metadata": {},
   "source": [
    "## Compare Region values using crosstab\n",
    "### Region 3 has the most high spenders AND low spenders"
   ]
  },
  {
   "cell_type": "code",
   "execution_count": 16,
   "id": "859efe40",
   "metadata": {},
   "outputs": [],
   "source": [
    "# creating a crosstab for spending flag and Regions to see results in Excel\n",
    "\n",
    "cross_tab = pd.crosstab(full_merge['spending_flag'], full_merge['Region'], dropna = False)"
   ]
  },
  {
   "cell_type": "code",
   "execution_count": 17,
   "id": "3eb158e5",
   "metadata": {},
   "outputs": [],
   "source": [
    "# copying results to clipboard to be pasted into Excel\n",
    "\n",
    "cross_tab.to_clipboard()"
   ]
  },
  {
   "cell_type": "markdown",
   "id": "1a9e552a",
   "metadata": {},
   "source": [
    "# 4. Flag and remove low activity users"
   ]
  },
  {
   "cell_type": "code",
   "execution_count": 10,
   "id": "2776a0e6",
   "metadata": {},
   "outputs": [],
   "source": [
    "# low activity users have less than 5 max orders\n",
    "\n",
    "result = []\n",
    "\n",
    "for value in full_merge[\"max_order\"]:\n",
    "    if value < 5:\n",
    "        result.append(\"low_activity\")\n",
    "    else:\n",
    "        result.append(\"NA\")\n",
    "full_merge[\"exclusion\"] = result"
   ]
  },
  {
   "cell_type": "code",
   "execution_count": 13,
   "id": "5e36d7c3",
   "metadata": {},
   "outputs": [
    {
     "data": {
      "text/plain": [
       "NA              30964564\n",
       "low_activity     1440295\n",
       "Name: exclusion, dtype: int64"
      ]
     },
     "execution_count": 13,
     "metadata": {},
     "output_type": "execute_result"
    }
   ],
   "source": [
    "# verify that flags are labeled correctly\n",
    "\n",
    "full_merge['exclusion'].value_counts()"
   ]
  },
  {
   "cell_type": "markdown",
   "id": "0387a5c8",
   "metadata": {},
   "source": [
    "### Remove high activity users to create a low activity user sample"
   ]
  },
  {
   "cell_type": "code",
   "execution_count": 14,
   "id": "a04a9d1c",
   "metadata": {},
   "outputs": [],
   "source": [
    "# users that are not flagged as 'NA' are low activity\n",
    "\n",
    "low_activity_users = full_merge[full_merge.exclusion != 'NA']"
   ]
  },
  {
   "cell_type": "code",
   "execution_count": 15,
   "id": "d17683a2",
   "metadata": {},
   "outputs": [
    {
     "data": {
      "text/plain": [
       "low_activity    1440295\n",
       "Name: exclusion, dtype: int64"
      ]
     },
     "execution_count": 15,
     "metadata": {},
     "output_type": "execute_result"
    }
   ],
   "source": [
    "# verify that only low activity users included\n",
    "\n",
    "low_activity_users['exclusion'].value_counts()"
   ]
  },
  {
   "cell_type": "markdown",
   "id": "14ad3357",
   "metadata": {},
   "source": [
    "### Exporting low activity user sample to pkl in case it's needed later"
   ]
  },
  {
   "cell_type": "code",
   "execution_count": 22,
   "id": "55971bba",
   "metadata": {},
   "outputs": [],
   "source": [
    "low_activity_users.to_pickle(os.path.join(path, '02 Data','Prepared Data', 'low_activity_users.pkl'))"
   ]
  },
  {
   "cell_type": "markdown",
   "id": "a078b2f9",
   "metadata": {},
   "source": [
    "### Remove low activity users from the dataframe"
   ]
  },
  {
   "cell_type": "code",
   "execution_count": 11,
   "id": "e91188ff",
   "metadata": {},
   "outputs": [],
   "source": [
    "# users that are not labeled as 'low_activity' are kept in full_merge\n",
    "\n",
    "full_merge = full_merge[full_merge.exclusion != 'low_activity']"
   ]
  },
  {
   "cell_type": "code",
   "execution_count": 17,
   "id": "c7967414",
   "metadata": {},
   "outputs": [
    {
     "data": {
      "text/plain": [
       "(30964564, 31)"
      ]
     },
     "execution_count": 17,
     "metadata": {},
     "output_type": "execute_result"
    }
   ],
   "source": [
    "#verify that number of rows is reduced by the number of low activity usrs that were removed\n",
    "\n",
    "full_merge.shape"
   ]
  },
  {
   "cell_type": "code",
   "execution_count": 12,
   "id": "c57b7a9e",
   "metadata": {},
   "outputs": [],
   "source": [
    "# removing exclusion column (axis =1) from df\n",
    "\n",
    "full_merge = full_merge.drop(['exclusion'], axis =1)"
   ]
  },
  {
   "cell_type": "code",
   "execution_count": 19,
   "id": "2b627d96",
   "metadata": {},
   "outputs": [
    {
     "data": {
      "text/html": [
       "<div>\n",
       "<style scoped>\n",
       "    .dataframe tbody tr th:only-of-type {\n",
       "        vertical-align: middle;\n",
       "    }\n",
       "\n",
       "    .dataframe tbody tr th {\n",
       "        vertical-align: top;\n",
       "    }\n",
       "\n",
       "    .dataframe thead th {\n",
       "        text-align: right;\n",
       "    }\n",
       "</style>\n",
       "<table border=\"1\" class=\"dataframe\">\n",
       "  <thead>\n",
       "    <tr style=\"text-align: right;\">\n",
       "      <th></th>\n",
       "      <th>order_id</th>\n",
       "      <th>user_id</th>\n",
       "      <th>order_number</th>\n",
       "      <th>orders_day_of_week</th>\n",
       "      <th>order_hour_of_day</th>\n",
       "      <th>days_since_prior_order</th>\n",
       "      <th>product_id</th>\n",
       "      <th>add_to_cart_order</th>\n",
       "      <th>reordered</th>\n",
       "      <th>product_name</th>\n",
       "      <th>...</th>\n",
       "      <th>median_days_prior_order</th>\n",
       "      <th>frequency_flag</th>\n",
       "      <th>Sex</th>\n",
       "      <th>State</th>\n",
       "      <th>Age</th>\n",
       "      <th>Date Joined</th>\n",
       "      <th>Number Dependents</th>\n",
       "      <th>Family Status</th>\n",
       "      <th>Income</th>\n",
       "      <th>Region</th>\n",
       "    </tr>\n",
       "  </thead>\n",
       "  <tbody>\n",
       "    <tr>\n",
       "      <th>0</th>\n",
       "      <td>2539329</td>\n",
       "      <td>1</td>\n",
       "      <td>1</td>\n",
       "      <td>2</td>\n",
       "      <td>8</td>\n",
       "      <td>NaN</td>\n",
       "      <td>196</td>\n",
       "      <td>1</td>\n",
       "      <td>0</td>\n",
       "      <td>Soda</td>\n",
       "      <td>...</td>\n",
       "      <td>20.5</td>\n",
       "      <td>Non-frequent customer</td>\n",
       "      <td>Female</td>\n",
       "      <td>Alabama</td>\n",
       "      <td>31</td>\n",
       "      <td>2/17/2019</td>\n",
       "      <td>3</td>\n",
       "      <td>married</td>\n",
       "      <td>40423</td>\n",
       "      <td>Region 3</td>\n",
       "    </tr>\n",
       "  </tbody>\n",
       "</table>\n",
       "<p>1 rows × 30 columns</p>\n",
       "</div>"
      ],
      "text/plain": [
       "  order_id user_id  order_number  orders_day_of_week  order_hour_of_day  \\\n",
       "0  2539329       1             1                   2                  8   \n",
       "\n",
       "   days_since_prior_order product_id  add_to_cart_order reordered  \\\n",
       "0                     NaN        196                  1         0   \n",
       "\n",
       "  product_name  ... median_days_prior_order         frequency_flag     Sex  \\\n",
       "0         Soda  ...                    20.5  Non-frequent customer  Female   \n",
       "\n",
       "     State Age Date Joined  Number Dependents Family Status  Income    Region  \n",
       "0  Alabama  31   2/17/2019                  3       married   40423  Region 3  \n",
       "\n",
       "[1 rows x 30 columns]"
      ]
     },
     "execution_count": 19,
     "metadata": {},
     "output_type": "execute_result"
    }
   ],
   "source": [
    "# verify that exclusion column was removed\n",
    "\n",
    "full_merge.head(1)"
   ]
  },
  {
   "cell_type": "markdown",
   "id": "a99f93db",
   "metadata": {},
   "source": [
    "# 5. Create customer profiles"
   ]
  },
  {
   "cell_type": "markdown",
   "id": "8210a9b8",
   "metadata": {},
   "source": [
    "## Generate parent flag based on number of dependents per user"
   ]
  },
  {
   "cell_type": "code",
   "execution_count": 13,
   "id": "c3fc3c03",
   "metadata": {},
   "outputs": [],
   "source": [
    "# No dependents = 0, else result is a parent. \n",
    "\n",
    "result = []\n",
    "\n",
    "for value in full_merge[\"Number Dependents\"]:\n",
    "    if value == 0:\n",
    "        result.append(\"no dependents\")\n",
    "    else:\n",
    "        result.append(\"parent\")\n",
    "full_merge[\"Parent_Flag\"] = result"
   ]
  },
  {
   "cell_type": "code",
   "execution_count": 14,
   "id": "e5820b41",
   "metadata": {},
   "outputs": [
    {
     "data": {
      "text/plain": [
       "Parent_Flag\n",
       "parent           23224883\n",
       "no dependents     7739681\n",
       "dtype: int64"
      ]
     },
     "execution_count": 14,
     "metadata": {},
     "output_type": "execute_result"
    }
   ],
   "source": [
    "# verify that new column and values successfully created\n",
    "\n",
    "full_merge.value_counts('Parent_Flag')"
   ]
  },
  {
   "cell_type": "markdown",
   "id": "5a4c6281",
   "metadata": {},
   "source": [
    "## Generate age profile flag based on user age"
   ]
  },
  {
   "cell_type": "code",
   "execution_count": 15,
   "id": "4e95cc43",
   "metadata": {},
   "outputs": [],
   "source": [
    "# young is 18 to 35, middle-aged is 36 to 61, senior is older than 62\n",
    "\n",
    "full_merge.loc[full_merge['Age'] <= 35, 'Age_Profile'] = 'Young'\n",
    "full_merge.loc[(full_merge['Age'] > 35) & (full_merge['Age'] <= 62), 'Age_Profile'] = 'Middle-Aged'\n",
    "full_merge.loc[full_merge['Age'] > 62, 'Age_Profile'] = 'Senior'"
   ]
  },
  {
   "cell_type": "code",
   "execution_count": 30,
   "id": "25adfa46",
   "metadata": {},
   "outputs": [
    {
     "data": {
      "text/plain": [
       "Age_Profile\n",
       "Middle-Aged    13050626\n",
       "Senior          9175133\n",
       "Young           8738805\n",
       "dtype: int64"
      ]
     },
     "execution_count": 30,
     "metadata": {},
     "output_type": "execute_result"
    }
   ],
   "source": [
    "# verify Age_Profile correctly labeled\n",
    "\n",
    "full_merge.value_counts('Age_Profile')"
   ]
  },
  {
   "cell_type": "markdown",
   "id": "066b765f",
   "metadata": {},
   "source": [
    "### Middle-aged users are more loyal"
   ]
  },
  {
   "cell_type": "code",
   "execution_count": 31,
   "id": "f7ec5306",
   "metadata": {},
   "outputs": [],
   "source": [
    "# creating a crosstab for loyalty flag and age profile\n",
    "\n",
    "age_loyal_tab = pd.crosstab(full_merge['loyalty_flag'], full_merge['Age_Profile'], dropna = False)"
   ]
  },
  {
   "cell_type": "code",
   "execution_count": 32,
   "id": "68e1ad0a",
   "metadata": {},
   "outputs": [],
   "source": [
    "age_loyal_tab.to_clipboard()"
   ]
  },
  {
   "cell_type": "markdown",
   "id": "b675796b",
   "metadata": {},
   "source": [
    "### Seniors spend more"
   ]
  },
  {
   "cell_type": "code",
   "execution_count": 33,
   "id": "ce53b262",
   "metadata": {},
   "outputs": [],
   "source": [
    "# creating a crosstab for spending flag and age profile'\n",
    "\n",
    "spend_age_tab = pd.crosstab(full_merge['spending_flag'], full_merge['Age_Profile'], dropna = False)"
   ]
  },
  {
   "cell_type": "code",
   "execution_count": 34,
   "id": "aea07684",
   "metadata": {},
   "outputs": [],
   "source": [
    "spend_age_tab.to_clipboard()"
   ]
  },
  {
   "cell_type": "markdown",
   "id": "c5f17f4a",
   "metadata": {},
   "source": [
    "### Married users spend more"
   ]
  },
  {
   "cell_type": "code",
   "execution_count": 35,
   "id": "39c25d7e",
   "metadata": {},
   "outputs": [],
   "source": [
    "# creating a crosstab for spending flag and family status\n",
    "\n",
    "spend_family_tab = pd.crosstab(full_merge['spending_flag'], full_merge['Family Status'], dropna = False)"
   ]
  },
  {
   "cell_type": "code",
   "execution_count": 36,
   "id": "27b60788",
   "metadata": {},
   "outputs": [],
   "source": [
    "spend_family_tab.to_clipboard()"
   ]
  },
  {
   "cell_type": "markdown",
   "id": "089b7faf",
   "metadata": {},
   "source": [
    "## Importing and merging department data to full_merge"
   ]
  },
  {
   "cell_type": "code",
   "execution_count": 16,
   "id": "a71eec4a",
   "metadata": {},
   "outputs": [],
   "source": [
    "# importing department data\n",
    "\n",
    "departments = pd.read_csv(r'C:\\Users\\kevan\\Documents\\Career Foundry\\Data Immersion\\Achievement 4\\Instacart Basket Analysis\\02 Data\\Prepared Data\\departments_wrangled.csv')"
   ]
  },
  {
   "cell_type": "code",
   "execution_count": 17,
   "id": "a397d960",
   "metadata": {},
   "outputs": [
    {
     "data": {
      "text/html": [
       "<div>\n",
       "<style scoped>\n",
       "    .dataframe tbody tr th:only-of-type {\n",
       "        vertical-align: middle;\n",
       "    }\n",
       "\n",
       "    .dataframe tbody tr th {\n",
       "        vertical-align: top;\n",
       "    }\n",
       "\n",
       "    .dataframe thead th {\n",
       "        text-align: right;\n",
       "    }\n",
       "</style>\n",
       "<table border=\"1\" class=\"dataframe\">\n",
       "  <thead>\n",
       "    <tr style=\"text-align: right;\">\n",
       "      <th></th>\n",
       "      <th>department_id</th>\n",
       "      <th>department</th>\n",
       "    </tr>\n",
       "  </thead>\n",
       "  <tbody>\n",
       "    <tr>\n",
       "      <th>0</th>\n",
       "      <td>1</td>\n",
       "      <td>frozen</td>\n",
       "    </tr>\n",
       "    <tr>\n",
       "      <th>1</th>\n",
       "      <td>2</td>\n",
       "      <td>other</td>\n",
       "    </tr>\n",
       "    <tr>\n",
       "      <th>2</th>\n",
       "      <td>3</td>\n",
       "      <td>bakery</td>\n",
       "    </tr>\n",
       "    <tr>\n",
       "      <th>3</th>\n",
       "      <td>4</td>\n",
       "      <td>produce</td>\n",
       "    </tr>\n",
       "    <tr>\n",
       "      <th>4</th>\n",
       "      <td>5</td>\n",
       "      <td>alcohol</td>\n",
       "    </tr>\n",
       "    <tr>\n",
       "      <th>5</th>\n",
       "      <td>6</td>\n",
       "      <td>international</td>\n",
       "    </tr>\n",
       "    <tr>\n",
       "      <th>6</th>\n",
       "      <td>7</td>\n",
       "      <td>beverages</td>\n",
       "    </tr>\n",
       "    <tr>\n",
       "      <th>7</th>\n",
       "      <td>8</td>\n",
       "      <td>pets</td>\n",
       "    </tr>\n",
       "    <tr>\n",
       "      <th>8</th>\n",
       "      <td>9</td>\n",
       "      <td>dry goods pasta</td>\n",
       "    </tr>\n",
       "    <tr>\n",
       "      <th>9</th>\n",
       "      <td>10</td>\n",
       "      <td>bulk</td>\n",
       "    </tr>\n",
       "    <tr>\n",
       "      <th>10</th>\n",
       "      <td>11</td>\n",
       "      <td>personal care</td>\n",
       "    </tr>\n",
       "    <tr>\n",
       "      <th>11</th>\n",
       "      <td>12</td>\n",
       "      <td>meat seafood</td>\n",
       "    </tr>\n",
       "    <tr>\n",
       "      <th>12</th>\n",
       "      <td>13</td>\n",
       "      <td>pantry</td>\n",
       "    </tr>\n",
       "    <tr>\n",
       "      <th>13</th>\n",
       "      <td>14</td>\n",
       "      <td>breakfast</td>\n",
       "    </tr>\n",
       "    <tr>\n",
       "      <th>14</th>\n",
       "      <td>15</td>\n",
       "      <td>canned goods</td>\n",
       "    </tr>\n",
       "    <tr>\n",
       "      <th>15</th>\n",
       "      <td>16</td>\n",
       "      <td>dairy eggs</td>\n",
       "    </tr>\n",
       "    <tr>\n",
       "      <th>16</th>\n",
       "      <td>17</td>\n",
       "      <td>household</td>\n",
       "    </tr>\n",
       "    <tr>\n",
       "      <th>17</th>\n",
       "      <td>18</td>\n",
       "      <td>babies</td>\n",
       "    </tr>\n",
       "    <tr>\n",
       "      <th>18</th>\n",
       "      <td>19</td>\n",
       "      <td>snacks</td>\n",
       "    </tr>\n",
       "    <tr>\n",
       "      <th>19</th>\n",
       "      <td>20</td>\n",
       "      <td>deli</td>\n",
       "    </tr>\n",
       "    <tr>\n",
       "      <th>20</th>\n",
       "      <td>21</td>\n",
       "      <td>missing</td>\n",
       "    </tr>\n",
       "  </tbody>\n",
       "</table>\n",
       "</div>"
      ],
      "text/plain": [
       "    department_id       department\n",
       "0               1           frozen\n",
       "1               2            other\n",
       "2               3           bakery\n",
       "3               4          produce\n",
       "4               5          alcohol\n",
       "5               6    international\n",
       "6               7        beverages\n",
       "7               8             pets\n",
       "8               9  dry goods pasta\n",
       "9              10             bulk\n",
       "10             11    personal care\n",
       "11             12     meat seafood\n",
       "12             13           pantry\n",
       "13             14        breakfast\n",
       "14             15     canned goods\n",
       "15             16       dairy eggs\n",
       "16             17        household\n",
       "17             18           babies\n",
       "18             19           snacks\n",
       "19             20             deli\n",
       "20             21          missing"
      ]
     },
     "execution_count": 17,
     "metadata": {},
     "output_type": "execute_result"
    }
   ],
   "source": [
    "# renaming index as department_id so departments df can be merged onto full_merge df\n",
    "\n",
    "departments = departments.rename(columns={'Unnamed: 0' : 'department_id'})\n",
    "departments"
   ]
  },
  {
   "cell_type": "code",
   "execution_count": 18,
   "id": "263c91ad",
   "metadata": {},
   "outputs": [],
   "source": [
    "# changing department_id from int to str so that it can merge onto full_merge df\n",
    "\n",
    "departments = departments.astype({\"department_id\": 'str'})"
   ]
  },
  {
   "cell_type": "code",
   "execution_count": 19,
   "id": "90d25e51",
   "metadata": {},
   "outputs": [],
   "source": [
    "# merge dataframes using department id as key\n",
    "\n",
    "full_merge = full_merge.merge(departments, on = 'department_id')"
   ]
  },
  {
   "cell_type": "markdown",
   "id": "095daa8f",
   "metadata": {},
   "source": [
    "### Produce most popular regardless of loyalty status"
   ]
  },
  {
   "cell_type": "code",
   "execution_count": 41,
   "id": "5aba1632",
   "metadata": {},
   "outputs": [],
   "source": [
    "# creating a crosstab for loyalty flag and department IDs\n",
    "loyal_tab = pd.crosstab(full_merge['loyalty_flag'], full_merge['department_id'], dropna = False)"
   ]
  },
  {
   "cell_type": "code",
   "execution_count": 42,
   "id": "60804910",
   "metadata": {},
   "outputs": [],
   "source": [
    "loyal_tab.to_clipboard()"
   ]
  },
  {
   "cell_type": "markdown",
   "id": "853fb9df",
   "metadata": {},
   "source": [
    "## Create Data Dictionary for Departments "
   ]
  },
  {
   "cell_type": "code",
   "execution_count": 43,
   "id": "f58e9813",
   "metadata": {},
   "outputs": [
    {
     "data": {
      "text/plain": [
       "{0: {'department_id': '1', 'department': 'frozen'},\n",
       " 1: {'department_id': '2', 'department': 'other'},\n",
       " 2: {'department_id': '3', 'department': 'bakery'},\n",
       " 3: {'department_id': '4', 'department': 'produce'},\n",
       " 4: {'department_id': '5', 'department': 'alcohol'},\n",
       " 5: {'department_id': '6', 'department': 'international'},\n",
       " 6: {'department_id': '7', 'department': 'beverages'},\n",
       " 7: {'department_id': '8', 'department': 'pets'},\n",
       " 8: {'department_id': '9', 'department': 'dry goods pasta'},\n",
       " 9: {'department_id': '10', 'department': 'bulk'},\n",
       " 10: {'department_id': '11', 'department': 'personal care'},\n",
       " 11: {'department_id': '12', 'department': 'meat seafood'},\n",
       " 12: {'department_id': '13', 'department': 'pantry'},\n",
       " 13: {'department_id': '14', 'department': 'breakfast'},\n",
       " 14: {'department_id': '15', 'department': 'canned goods'},\n",
       " 15: {'department_id': '16', 'department': 'dairy eggs'},\n",
       " 16: {'department_id': '17', 'department': 'household'},\n",
       " 17: {'department_id': '18', 'department': 'babies'},\n",
       " 18: {'department_id': '19', 'department': 'snacks'},\n",
       " 19: {'department_id': '20', 'department': 'deli'},\n",
       " 20: {'department_id': '21', 'department': 'missing'}}"
      ]
     },
     "execution_count": 43,
     "metadata": {},
     "output_type": "execute_result"
    }
   ],
   "source": [
    "data_dict = departments.to_dict('index')\n",
    "data_dict"
   ]
  },
  {
   "cell_type": "markdown",
   "id": "ff3e926f",
   "metadata": {},
   "source": [
    "#### Subset df_1 for Age_Profile, Parent_Flag, & product_name"
   ]
  },
  {
   "cell_type": "code",
   "execution_count": 60,
   "id": "717c5813",
   "metadata": {},
   "outputs": [],
   "source": [
    "# creating subset of df to speed up visual processing by only selecting necessary columns\n",
    "\n",
    "df_1 = full_merge[['Age_Profile', 'Parent_Flag', 'product_name', 'order_hour_of_day']]"
   ]
  },
  {
   "cell_type": "markdown",
   "id": "aa0904d1",
   "metadata": {},
   "source": [
    "## Filtered subset by age and dependents to find departments and products with highest counts.\n",
    "### Bananas most popular for all ages and parents/no dependents."
   ]
  },
  {
   "cell_type": "code",
   "execution_count": 58,
   "id": "be5994fc",
   "metadata": {},
   "outputs": [
    {
     "data": {
      "text/plain": [
       "Age_Profile  product_name                   \n",
       "Middle-Aged  Banana                             191988\n",
       "             Bag of Organic Bananas             154281\n",
       "Senior       Banana                             133181\n",
       "Young        Banana                             127995\n",
       "Senior       Bag of Organic Bananas             109735\n",
       "                                                 ...  \n",
       "Young        Chili with Beans, Vegetarian            1\n",
       "             Simply Good Strawberry Gelatin          1\n",
       "             Simply Good Vanilla Pudding Mix         1\n",
       "             Chili with Beans Pot Pie                1\n",
       "Senior       L'Orange Vodka                          1\n",
       "Length: 142970, dtype: int64"
      ]
     },
     "execution_count": 58,
     "metadata": {},
     "output_type": "execute_result"
    }
   ],
   "source": [
    "df_1[['Age_Profile', 'product_name']].value_counts()"
   ]
  },
  {
   "cell_type": "code",
   "execution_count": 59,
   "id": "674a6837",
   "metadata": {},
   "outputs": [
    {
     "data": {
      "text/plain": [
       "Parent_Flag    product_name                                        \n",
       "parent         Banana                                                  339554\n",
       "               Bag of Organic Bananas                                  274617\n",
       "               Organic Strawberries                                    191533\n",
       "               Organic Baby Spinach                                    173844\n",
       "               Organic Hass Avocado                                    154554\n",
       "                                                                        ...  \n",
       "no dependents  Probiotics High Potency Capsules                             1\n",
       "               Cut Asparagus Spears                                         1\n",
       "               Probiotic & Prebiotic Supplement, Flavorless                 1\n",
       "               Proactive Health Mature Adult Hairball Care Cat Food         1\n",
       "               Gluten Free Pizza Dough Ball                                 1\n",
       "Length: 96064, dtype: int64"
      ]
     },
     "execution_count": 59,
     "metadata": {},
     "output_type": "execute_result"
    }
   ],
   "source": [
    "df_1[['Parent_Flag', 'product_name']].value_counts()"
   ]
  },
  {
   "cell_type": "code",
   "execution_count": 22,
   "id": "57fd0ed4",
   "metadata": {},
   "outputs": [],
   "source": [
    "# creating subset for young parents\n",
    "\n",
    "young_p = df_1[(df_1.Age_Profile == 'Young') & (df_1.Parent_Flag == 'parent')]"
   ]
  },
  {
   "cell_type": "code",
   "execution_count": 23,
   "id": "3a35740c",
   "metadata": {},
   "outputs": [
    {
     "data": {
      "text/plain": [
       "<bound method IndexOpsMixin.value_counts of 0                                 Soda\n",
       "1                                 Soda\n",
       "2                                 Soda\n",
       "3                                 Soda\n",
       "4                                 Soda\n",
       "                       ...            \n",
       "30964431                      Apricots\n",
       "30964439    Organic Black Mission Figs\n",
       "30964452    Organic Black Mission Figs\n",
       "30964498                   Dried Mango\n",
       "30964499                   Dried Mango\n",
       "Name: product_name, Length: 6561115, dtype: object>"
      ]
     },
     "execution_count": 23,
     "metadata": {},
     "output_type": "execute_result"
    }
   ],
   "source": [
    "young_p['product_name'].value_counts"
   ]
  },
  {
   "cell_type": "code",
   "execution_count": 61,
   "id": "cbec5f3c",
   "metadata": {},
   "outputs": [],
   "source": [
    "# creating subset for young no dependents\n",
    "\n",
    "young_n = df_1[(df_1.Age_Profile == 'Young') & (df_1.Parent_Flag != 'parent')]"
   ]
  },
  {
   "cell_type": "code",
   "execution_count": 25,
   "id": "0eef0e39",
   "metadata": {},
   "outputs": [
    {
     "data": {
      "text/plain": [
       "<bound method IndexOpsMixin.value_counts of 617                               Soda\n",
       "618                               Soda\n",
       "619                  Zero Calorie Cola\n",
       "620                  Zero Calorie Cola\n",
       "621                      Coconut Water\n",
       "                       ...            \n",
       "30964408    Organic Black Mission Figs\n",
       "30964428         Organic White Popcorn\n",
       "30964429         Organic White Popcorn\n",
       "30964451    Organic Brown Jasmine Rice\n",
       "30964456              Israeli Couscous\n",
       "Name: product_name, Length: 2177690, dtype: object>"
      ]
     },
     "execution_count": 25,
     "metadata": {},
     "output_type": "execute_result"
    }
   ],
   "source": [
    "young_n['product_name'].value_counts"
   ]
  },
  {
   "cell_type": "code",
   "execution_count": 26,
   "id": "67c5a590",
   "metadata": {},
   "outputs": [
    {
     "data": {
      "text/plain": [
       "8738805"
      ]
     },
     "execution_count": 26,
     "metadata": {},
     "output_type": "execute_result"
    }
   ],
   "source": [
    "# verify that subsets equal to total young users\n",
    "\n",
    "len(young_p + young_n)"
   ]
  },
  {
   "cell_type": "code",
   "execution_count": 27,
   "id": "f2964080",
   "metadata": {},
   "outputs": [],
   "source": [
    "# creating subset for middle-aged parents\n",
    "\n",
    "middle_p = df_1[(df_1.Age_Profile == 'Middle-Aged') & (df_1.Parent_Flag == 'parent')]"
   ]
  },
  {
   "cell_type": "code",
   "execution_count": 28,
   "id": "09f1d063",
   "metadata": {},
   "outputs": [
    {
     "data": {
      "text/plain": [
       "<bound method IndexOpsMixin.value_counts of 33                         Soda\n",
       "34                         Soda\n",
       "35                         Soda\n",
       "36          Coke Zero Diet Soda\n",
       "37          Coke Zero Diet Soda\n",
       "                   ...         \n",
       "30964550            Dried Mango\n",
       "30964551            Dried Mango\n",
       "30964552            Dried Mango\n",
       "30964557            Dried Mango\n",
       "30964563               Apricots\n",
       "Name: product_name, Length: 9774447, dtype: object>"
      ]
     },
     "execution_count": 28,
     "metadata": {},
     "output_type": "execute_result"
    }
   ],
   "source": [
    "middle_p['product_name'].value_counts"
   ]
  },
  {
   "cell_type": "code",
   "execution_count": 29,
   "id": "8224f7b4",
   "metadata": {},
   "outputs": [],
   "source": [
    "# creating subset for middle-aged no dependents\n",
    "\n",
    "middle_n = df_1[(df_1.Age_Profile == 'Middle-Aged') & (df_1.Parent_Flag != 'parent')]"
   ]
  },
  {
   "cell_type": "code",
   "execution_count": 30,
   "id": "79d4829a",
   "metadata": {},
   "outputs": [
    {
     "data": {
      "text/plain": [
       "<bound method IndexOpsMixin.value_counts of 563                                                   Soda\n",
       "564                                  Sparkling Lemon Water\n",
       "565                                  Sparkling Lemon Water\n",
       "566                                                   Cola\n",
       "567         Slim Can Pink Grapefruit Natural Mineral Water\n",
       "                                 ...                      \n",
       "30964529                                       Dried Mango\n",
       "30964530                                       Dried Mango\n",
       "30964531                                       Dried Mango\n",
       "30964544                                       Dried Mango\n",
       "30964545                                       Dried Mango\n",
       "Name: product_name, Length: 3276179, dtype: object>"
      ]
     },
     "execution_count": 30,
     "metadata": {},
     "output_type": "execute_result"
    }
   ],
   "source": [
    "middle_n['product_name'].value_counts"
   ]
  },
  {
   "cell_type": "code",
   "execution_count": 31,
   "id": "0e066729",
   "metadata": {},
   "outputs": [
    {
     "data": {
      "text/plain": [
       "13050626"
      ]
     },
     "execution_count": 31,
     "metadata": {},
     "output_type": "execute_result"
    }
   ],
   "source": [
    "# verify that subsets equal to total middle-aged users\n",
    "\n",
    "len(middle_p + middle_n)"
   ]
  },
  {
   "cell_type": "code",
   "execution_count": 32,
   "id": "83d97283",
   "metadata": {},
   "outputs": [],
   "source": [
    "# creating subset for senior parents\n",
    "\n",
    "senior_p = df_1[(df_1.Age_Profile == 'Senior') & (df_1.Parent_Flag == 'parent')]"
   ]
  },
  {
   "cell_type": "code",
   "execution_count": 33,
   "id": "9aa245db",
   "metadata": {},
   "outputs": [
    {
     "data": {
      "text/plain": [
       "<bound method IndexOpsMixin.value_counts of 189                Soda\n",
       "190                Soda\n",
       "191                Soda\n",
       "192                Soda\n",
       "193                Soda\n",
       "               ...     \n",
       "30964558    Dried Mango\n",
       "30964559    Dried Mango\n",
       "30964560    Dried Mango\n",
       "30964561    Dried Mango\n",
       "30964562    Dried Mango\n",
       "Name: product_name, Length: 6889321, dtype: object>"
      ]
     },
     "execution_count": 33,
     "metadata": {},
     "output_type": "execute_result"
    }
   ],
   "source": [
    "senior_p['product_name'].value_counts"
   ]
  },
  {
   "cell_type": "code",
   "execution_count": 34,
   "id": "4706ca40",
   "metadata": {},
   "outputs": [],
   "source": [
    "# creating subset for senior no dependents\n",
    "\n",
    "senior_n = df_1[(df_1.Age_Profile == 'Senior') & (df_1.Parent_Flag != 'parent')]"
   ]
  },
  {
   "cell_type": "code",
   "execution_count": 35,
   "id": "386ae1a1",
   "metadata": {},
   "outputs": [
    {
     "data": {
      "text/plain": [
       "<bound method IndexOpsMixin.value_counts of 13                     Soda\n",
       "14                     Soda\n",
       "15                     Soda\n",
       "16                     Soda\n",
       "17                     Soda\n",
       "                 ...       \n",
       "30964543        Dried Mango\n",
       "30964553        Dried Mango\n",
       "30964554        Dried Mango\n",
       "30964555        Dried Mango\n",
       "30964556    Vegetable Chips\n",
       "Name: product_name, Length: 2285812, dtype: object>"
      ]
     },
     "execution_count": 35,
     "metadata": {},
     "output_type": "execute_result"
    }
   ],
   "source": [
    "senior_n['product_name'].value_counts"
   ]
  },
  {
   "cell_type": "code",
   "execution_count": 36,
   "id": "dd7c79b1",
   "metadata": {},
   "outputs": [
    {
     "data": {
      "text/plain": [
       "9175133"
      ]
     },
     "execution_count": 36,
     "metadata": {},
     "output_type": "execute_result"
    }
   ],
   "source": [
    "# verify that subsets equal to total senior users\n",
    "\n",
    "len(senior_p + senior_n)"
   ]
  },
  {
   "cell_type": "markdown",
   "id": "e8647f93",
   "metadata": {},
   "source": [
    "# 6. Visualizations of customer profiles"
   ]
  },
  {
   "cell_type": "markdown",
   "id": "bd6f1e77",
   "metadata": {},
   "source": [
    "#### Subset df_2 for Age_Profile, Parent_Flag, department_id, Loyalty_flag, & Family Status"
   ]
  },
  {
   "cell_type": "code",
   "execution_count": 4,
   "id": "1657166c",
   "metadata": {},
   "outputs": [],
   "source": [
    "df_2 = full_merge[['Age_Profile', 'Parent_Flag', 'department', 'loyalty_flag', 'Family Status']]"
   ]
  },
  {
   "cell_type": "markdown",
   "id": "2926b987",
   "metadata": {},
   "source": [
    "### Produce dept (#4) most popular regardless of age, parents/no dependents, loyalty status, and family status"
   ]
  },
  {
   "cell_type": "code",
   "execution_count": 5,
   "id": "f1426789",
   "metadata": {},
   "outputs": [
    {
     "data": {
      "image/png": "[encoded data removed]",
      "text/plain": [
       "<Figure size 1000x500 with 1 Axes>"
      ]
     },
     "metadata": {},
     "output_type": "display_data"
    }
   ],
   "source": [
    "# bar chart showing counts for each department\n",
    "# reduced font size to keep x labels from overlapping\n",
    "\n",
    "dept_bar = sns.catplot(data=df_2, kind=\"count\", x=\"department\", aspect = 2)\n",
    "plt.xticks(rotation = 20, fontsize=7)\n",
    "plt.xlabel('Department')\n",
    "plt.ylabel('Count of Orders')\n",
    "plt.title('Department Orders Chart')\n",
    "plt.tight_layout() # added to keep x axis label for being cut off after export\n",
    "plt.show()"
   ]
  },
  {
   "cell_type": "code",
   "execution_count": 7,
   "id": "94fbd4a7",
   "metadata": {},
   "outputs": [
    {
     "data": {
      "image/png": "[encoded data removed]",
      "text/plain": [
       "<Figure size 1136.38x500 with 1 Axes>"
      ]
     },
     "metadata": {},
     "output_type": "display_data"
    }
   ],
   "source": [
    "# bar chart showing counts for each department by age profile\n",
    "\n",
    "dept_age_bar = sns.catplot(data=df_2, kind=\"count\", x=\"department\", hue= \"Age_Profile\", aspect = 2)\n",
    "plt.xticks(rotation = 20, fontsize=7)\n",
    "plt.xlabel('Department')\n",
    "plt.ylabel('Count of Orders')\n",
    "plt.title('Department Orders by Age Group Bar Chart')\n",
    "plt.tight_layout()\n",
    "plt.show()"
   ]
  },
  {
   "cell_type": "code",
   "execution_count": 8,
   "id": "38b3c9d1",
   "metadata": {},
   "outputs": [
    {
     "data": {
      "image/png": "[encoded data removed]",
      "text/plain": [
       "<Figure size 1153.88x500 with 1 Axes>"
      ]
     },
     "metadata": {},
     "output_type": "display_data"
    }
   ],
   "source": [
    "# bar chart showing counts for each department by parent flag\n",
    "\n",
    "dept_parent_bar = sns.catplot(data=df_2, kind = 'count', x=\"department\", hue=\"Parent_Flag\", aspect = 2)\n",
    "plt.xticks(rotation = 20, fontsize=7)\n",
    "plt.xlabel('Department')\n",
    "plt.ylabel('Count of Orders')\n",
    "plt.title('Department Orders for Parents/No Dependents Bar Chart')\n",
    "plt.tight_layout()\n",
    "plt.show()"
   ]
  },
  {
   "cell_type": "code",
   "execution_count": 16,
   "id": "1eceff13",
   "metadata": {},
   "outputs": [
    {
     "data": {
      "image/png": "[encoded data removed]",
      "text/plain": [
       "<Figure size 1173.12x500 with 1 Axes>"
      ]
     },
     "metadata": {},
     "output_type": "display_data"
    }
   ],
   "source": [
    "# bar chart showing counts for each department by loyalty flag\n",
    "\n",
    "dept_loyal_bar = sns.catplot(data=df_2, kind = 'count', x=\"department\", hue=\"loyalty_flag\", aspect = 2)\n",
    "plt.xticks(rotation = 20, fontsize=7)\n",
    "plt.xlabel('Department')\n",
    "plt.ylabel('Count of Orders')\n",
    "plt.title('Department Orders by User Loyalty Status Bar Chart')\n",
    "plt.tight_layout()\n",
    "plt.show()"
   ]
  },
  {
   "cell_type": "code",
   "execution_count": 17,
   "id": "49795e9e",
   "metadata": {},
   "outputs": [
    {
     "data": {
      "image/png": "[encoded data removed]",
      "text/plain": [
       "<Figure size 1266x500 with 1 Axes>"
      ]
     },
     "metadata": {},
     "output_type": "display_data"
    }
   ],
   "source": [
    "# bar chart showing counts for each department by family status\n",
    "\n",
    "dept_fam_bar = sns.catplot(data=df_2, kind = 'count', x='department', hue='Family Status', aspect = 2)\n",
    "plt.xticks(rotation = 20, fontsize=7)\n",
    "plt.xlabel('Department')\n",
    "plt.ylabel('Count of Orders')\n",
    "plt.title('Department Orders by Family Status Bar Chart')\n",
    "plt.tight_layout()\n",
    "plt.show()"
   ]
  },
  {
   "cell_type": "markdown",
   "id": "7936748e",
   "metadata": {},
   "source": [
    "## Boxplot of income and age profiles\n",
    "### Seniors have the highest income among all age groups. No difference between parents and no dependents."
   ]
  },
  {
   "cell_type": "markdown",
   "id": "0fd7ac7d",
   "metadata": {},
   "source": [
    "#### Subset df_3 for Age_Profile, Parent_flag, Income"
   ]
  },
  {
   "cell_type": "code",
   "execution_count": 52,
   "id": "ab42186e",
   "metadata": {},
   "outputs": [],
   "source": [
    "df_3 = full_merge[['Age_Profile', 'Parent_Flag', 'Income']]"
   ]
  },
  {
   "cell_type": "code",
   "execution_count": 53,
   "id": "2c8ee41f",
   "metadata": {},
   "outputs": [
    {
     "data": {
      "text/plain": [
       "Text(0.5, 1.0, 'Age Profile and Parent/No Dependent Incomes Boxplot')"
      ]
     },
     "execution_count": 53,
     "metadata": {},
     "output_type": "execute_result"
    },
    {
     "data": {
      "image/png": "[encoded data removed]",
      "text/plain": [
       "<Figure size 640x480 with 1 Axes>"
      ]
     },
     "metadata": {},
     "output_type": "display_data"
    }
   ],
   "source": [
    "# boxplot of age profiles against income. color distinguishes parents and no dependents\n",
    "\n",
    "inc_allage_box = sns.boxplot(data = df_3, x = 'Age_Profile', y = 'Income', hue = 'Parent_Flag')\n",
    "plt.xlabel('Age Profile')\n",
    "plt.ylabel('Total Income')\n",
    "plt.title('Age Profile and Parent/No Dependent Incomes Boxplot')"
   ]
  },
  {
   "cell_type": "markdown",
   "id": "373fa02f",
   "metadata": {},
   "source": [
    "## Bar chart of number of users and their loyalty status\n",
    "### Regular customers make up most of Instacart users"
   ]
  },
  {
   "cell_type": "code",
   "execution_count": 54,
   "id": "78d7ac0c",
   "metadata": {},
   "outputs": [
    {
     "data": {
      "text/plain": [
       "Text(9.444444444444445, 0.5, 'Count of Users')"
      ]
     },
     "execution_count": 54,
     "metadata": {},
     "output_type": "execute_result"
    },
    {
     "data": {
      "image/png": "[encoded data removed]",
      "text/plain": [
       "<Figure size 500x500 with 1 Axes>"
      ]
     },
     "metadata": {},
     "output_type": "display_data"
    }
   ],
   "source": [
    "# count of each loyalty status for all users\n",
    "\n",
    "loyal_bar = sns.catplot(data=df_2,x='loyalty_flag', kind='count')\n",
    "plt.xlabel('Loyalty Status')\n",
    "plt.ylabel('Count of Users')"
   ]
  },
  {
   "cell_type": "markdown",
   "id": "2f69cdde",
   "metadata": {},
   "source": [
    "### Single users proportionately more loyal"
   ]
  },
  {
   "cell_type": "code",
   "execution_count": null,
   "id": "ebcdb82d",
   "metadata": {},
   "outputs": [],
   "source": [
    "# creating a crosstab for loyalty flag and family status\n",
    "\n",
    "fam_loyal_tab = pd.crosstab(full_merge['loyalty_flag'], full_merge['Family Status'], dropna = False)"
   ]
  },
  {
   "cell_type": "code",
   "execution_count": null,
   "id": "097b9a78",
   "metadata": {},
   "outputs": [],
   "source": [
    "fam_loyal_tab.to_clipboard()"
   ]
  },
  {
   "cell_type": "markdown",
   "id": "6f941528",
   "metadata": {},
   "source": [
    "### Low spenders are more loyal"
   ]
  },
  {
   "cell_type": "code",
   "execution_count": null,
   "id": "72734545",
   "metadata": {},
   "outputs": [],
   "source": [
    "# creating a crosstab for loyalty flag and spending flag\n",
    "\n",
    "spend_loyal_tab = pd.crosstab(full_merge['loyalty_flag'], full_merge['spending_flag'], dropna = False)"
   ]
  },
  {
   "cell_type": "code",
   "execution_count": null,
   "id": "7e2104e7",
   "metadata": {},
   "outputs": [],
   "source": [
    "spend_loyal_tab.to_clipboard()"
   ]
  },
  {
   "cell_type": "markdown",
   "id": "0f288fec",
   "metadata": {},
   "source": [
    "## Bar chart of number of users flagged as Parents or No Dependents\n",
    "### Middle-aged parents make up the majority of Instacart users"
   ]
  },
  {
   "cell_type": "code",
   "execution_count": 55,
   "id": "e9a4ee34",
   "metadata": {},
   "outputs": [
    {
     "data": {
      "text/plain": [
       "(array([0, 1]), [Text(0, 0, 'parent'), Text(1, 0, 'no dependents')])"
      ]
     },
     "execution_count": 55,
     "metadata": {},
     "output_type": "execute_result"
    },
    {
     "data": {
      "image/png": "[encoded data removed]",
      "text/plain": [
       "<Figure size 636.375x500 with 1 Axes>"
      ]
     },
     "metadata": {},
     "output_type": "display_data"
    }
   ],
   "source": [
    "# count of each parent flag. color distinguishes age groups\n",
    "\n",
    "parent_age_bar = sns.catplot(data=df_1,x='Parent_Flag', kind='count', hue= 'Age_Profile')\n",
    "plt.xlabel('Dependent Status')\n",
    "plt.ylabel('Count of Users')\n",
    "plt.xticks(rotation = 360)"
   ]
  },
  {
   "cell_type": "markdown",
   "id": "2965e3db",
   "metadata": {},
   "source": [
    "## Most popular days and times among age groups\n",
    "### Saturday and Sunday are the most popular among all users. No difference between age groups and parents/no dependents."
   ]
  },
  {
   "cell_type": "markdown",
   "id": "7e14ab20",
   "metadata": {},
   "source": [
    "#### Subset df_4 for Age_Profile, Parent_Flag, orders_day_of_week, order_hour_of_day"
   ]
  },
  {
   "cell_type": "code",
   "execution_count": 39,
   "id": "8ee11360",
   "metadata": {},
   "outputs": [],
   "source": [
    "df_4 = full_merge[['Age_Profile', 'Parent_Flag', 'orders_day_of_week', 'order_hour_of_day']]"
   ]
  },
  {
   "cell_type": "code",
   "execution_count": 40,
   "id": "878ef1d4",
   "metadata": {},
   "outputs": [
    {
     "data": {
      "image/png": "[encoded data removed]",
      "text/plain": [
       "<Figure size 636.375x500 with 1 Axes>"
      ]
     },
     "metadata": {},
     "output_type": "display_data"
    }
   ],
   "source": [
    "# bar chart of counts of day of week for age groups\n",
    "\n",
    "DOW_age_bar = sns.catplot(data=df_4, x='orders_day_of_week', kind='count', aspect=1, hue = 'Age_Profile')"
   ]
  },
  {
   "cell_type": "code",
   "execution_count": 41,
   "id": "9065fa76",
   "metadata": {},
   "outputs": [
    {
     "data": {
      "text/plain": [
       "Text(0.5, 1.0, 'Orders for Parents/No Dependents by Day of Week Histogram')"
      ]
     },
     "execution_count": 41,
     "metadata": {},
     "output_type": "execute_result"
    },
    {
     "data": {
      "image/png": "[encoded data removed]",
      "text/plain": [
       "<Figure size 653.875x500 with 1 Axes>"
      ]
     },
     "metadata": {},
     "output_type": "display_data"
    }
   ],
   "source": [
    "# bar chart of counts of day of week for parents and no dependents\n",
    "\n",
    "DOW_parent_bar= sns.catplot(data=df_4, x='orders_day_of_week', kind='count', aspect=1, hue = 'Parent_Flag')\n",
    "plt.xlabel('Day of Week')\n",
    "plt.ylabel('Count of Orders')\n",
    "plt.title('Orders for Parents/No Dependents by Day of Week Histogram')"
   ]
  },
  {
   "cell_type": "markdown",
   "id": "4a5865a3",
   "metadata": {},
   "source": [
    "### 10am most popular time for all users, except for young users with no dependents who prefer 11am"
   ]
  },
  {
   "cell_type": "code",
   "execution_count": 42,
   "id": "3d023f20",
   "metadata": {},
   "outputs": [
    {
     "data": {
      "text/plain": [
       "Text(0.5, 1.0, 'Orders for Age Groups by Hour of Day Histogram')"
      ]
     },
     "execution_count": 42,
     "metadata": {},
     "output_type": "execute_result"
    },
    {
     "data": {
      "image/png": "[encoded data removed]",
      "text/plain": [
       "<Figure size 1136.38x500 with 1 Axes>"
      ]
     },
     "metadata": {},
     "output_type": "display_data"
    }
   ],
   "source": [
    "# bar chart of counts for hour of day for age groups\n",
    "\n",
    "time_age_bar = sns.catplot(data=df_4, x='order_hour_of_day', kind='count', aspect=2, hue = 'Age_Profile')\n",
    "plt.xlabel('Hour of Day')\n",
    "plt.ylabel('Count of Orders')\n",
    "plt.title('Orders for Age Groups by Hour of Day Histogram')"
   ]
  },
  {
   "cell_type": "code",
   "execution_count": 43,
   "id": "67bc16b3",
   "metadata": {},
   "outputs": [
    {
     "data": {
      "image/png": "[encoded data removed]",
      "text/plain": [
       "<Figure size 1153.88x500 with 1 Axes>"
      ]
     },
     "metadata": {},
     "output_type": "display_data"
    }
   ],
   "source": [
    "# bar chart of counts for hour of day for parents and no dependents\n",
    "\n",
    "time_parent_bar = sns.catplot(data=df_4, x='order_hour_of_day', kind='count', aspect=2, hue = 'Parent_Flag')"
   ]
  },
  {
   "cell_type": "markdown",
   "id": "b15139ec",
   "metadata": {},
   "source": [
    "### Young users with no dependents prefer to shop at 11am"
   ]
  },
  {
   "cell_type": "code",
   "execution_count": 62,
   "id": "f4c3a856",
   "metadata": {},
   "outputs": [
    {
     "data": {
      "image/png": "[encoded data removed]",
      "text/plain": [
       "<Figure size 1000x500 with 1 Axes>"
      ]
     },
     "metadata": {},
     "output_type": "display_data"
    }
   ],
   "source": [
    "# bar chart of counts for hour of day for young and no dependents\n",
    "\n",
    "time_yn_bar = sns.catplot(data=young_n, x='order_hour_of_day', kind='count', aspect=2, color = 'green')"
   ]
  },
  {
   "cell_type": "code",
   "execution_count": 63,
   "id": "155b6ed9",
   "metadata": {},
   "outputs": [
    {
     "data": {
      "text/plain": [
       "order_hour_of_day\n",
       "11    184855\n",
       "10    184683\n",
       "15    181411\n",
       "14    179689\n",
       "13    176150\n",
       "12    174601\n",
       "16    171673\n",
       "9     167715\n",
       "17    139630\n",
       "8     114817\n",
       "18    106097\n",
       "19     84548\n",
       "20     65371\n",
       "7      62295\n",
       "21     53649\n",
       "22     42586\n",
       "23     26724\n",
       "6      21050\n",
       "0      14525\n",
       "1       7880\n",
       "5       5894\n",
       "2       4697\n",
       "4       3671\n",
       "3       3479\n",
       "dtype: int64"
      ]
     },
     "execution_count": 63,
     "metadata": {},
     "output_type": "execute_result"
    }
   ],
   "source": [
    "# counts per hour to better detect which hour is most popular\n",
    "\n",
    "young_n.value_counts('order_hour_of_day')"
   ]
  },
  {
   "cell_type": "markdown",
   "id": "b719f5b3",
   "metadata": {},
   "source": [
    "# 7. Aggregations for Customer Profiles"
   ]
  },
  {
   "cell_type": "markdown",
   "id": "e9a7b596",
   "metadata": {},
   "source": [
    "### Measures (max, min, mean): \n",
    "               Prices\n",
    "               Income\n",
    "               Max order\n",
    "               Median days since prior order\n",
    "### Profiles: \n",
    "               Age groups\n",
    "               Parents / No dependents \n",
    "               High / low spenders\n",
    "               Frequent / Regular / Non Frequent users\n",
    "               Loyal / Regular / New users"
   ]
  },
  {
   "cell_type": "markdown",
   "id": "5e63bfb8",
   "metadata": {},
   "source": [
    "### Age Groups"
   ]
  },
  {
   "cell_type": "code",
   "execution_count": 64,
   "id": "0f475335",
   "metadata": {},
   "outputs": [
    {
     "data": {
      "text/html": [
       "<div>\n",
       "<style scoped>\n",
       "    .dataframe tbody tr th:only-of-type {\n",
       "        vertical-align: middle;\n",
       "    }\n",
       "\n",
       "    .dataframe tbody tr th {\n",
       "        vertical-align: top;\n",
       "    }\n",
       "\n",
       "    .dataframe thead tr th {\n",
       "        text-align: left;\n",
       "    }\n",
       "\n",
       "    .dataframe thead tr:last-of-type th {\n",
       "        text-align: right;\n",
       "    }\n",
       "</style>\n",
       "<table border=\"1\" class=\"dataframe\">\n",
       "  <thead>\n",
       "    <tr>\n",
       "      <th></th>\n",
       "      <th colspan=\"3\" halign=\"left\">prices</th>\n",
       "      <th colspan=\"3\" halign=\"left\">Income</th>\n",
       "      <th colspan=\"3\" halign=\"left\">max_order</th>\n",
       "      <th colspan=\"3\" halign=\"left\">median_days_prior_order</th>\n",
       "    </tr>\n",
       "    <tr>\n",
       "      <th></th>\n",
       "      <th>mean</th>\n",
       "      <th>max</th>\n",
       "      <th>min</th>\n",
       "      <th>mean</th>\n",
       "      <th>max</th>\n",
       "      <th>min</th>\n",
       "      <th>mean</th>\n",
       "      <th>max</th>\n",
       "      <th>min</th>\n",
       "      <th>mean</th>\n",
       "      <th>max</th>\n",
       "      <th>min</th>\n",
       "    </tr>\n",
       "    <tr>\n",
       "      <th>Age_Profile</th>\n",
       "      <th></th>\n",
       "      <th></th>\n",
       "      <th></th>\n",
       "      <th></th>\n",
       "      <th></th>\n",
       "      <th></th>\n",
       "      <th></th>\n",
       "      <th></th>\n",
       "      <th></th>\n",
       "      <th></th>\n",
       "      <th></th>\n",
       "      <th></th>\n",
       "    </tr>\n",
       "  </thead>\n",
       "  <tbody>\n",
       "    <tr>\n",
       "      <th>Middle-Aged</th>\n",
       "      <td>7.791445</td>\n",
       "      <td>25.0</td>\n",
       "      <td>1.0</td>\n",
       "      <td>107650.738025</td>\n",
       "      <td>592409</td>\n",
       "      <td>25903</td>\n",
       "      <td>34.504716</td>\n",
       "      <td>99</td>\n",
       "      <td>5</td>\n",
       "      <td>9.972117</td>\n",
       "      <td>30.0</td>\n",
       "      <td>0.0</td>\n",
       "    </tr>\n",
       "    <tr>\n",
       "      <th>Senior</th>\n",
       "      <td>7.795417</td>\n",
       "      <td>25.0</td>\n",
       "      <td>1.0</td>\n",
       "      <td>115990.045038</td>\n",
       "      <td>593901</td>\n",
       "      <td>29001</td>\n",
       "      <td>34.378952</td>\n",
       "      <td>99</td>\n",
       "      <td>5</td>\n",
       "      <td>9.926423</td>\n",
       "      <td>30.0</td>\n",
       "      <td>0.0</td>\n",
       "    </tr>\n",
       "    <tr>\n",
       "      <th>Young</th>\n",
       "      <td>7.784246</td>\n",
       "      <td>25.0</td>\n",
       "      <td>1.0</td>\n",
       "      <td>70637.357613</td>\n",
       "      <td>396364</td>\n",
       "      <td>25911</td>\n",
       "      <td>34.356734</td>\n",
       "      <td>99</td>\n",
       "      <td>5</td>\n",
       "      <td>9.967022</td>\n",
       "      <td>30.0</td>\n",
       "      <td>0.0</td>\n",
       "    </tr>\n",
       "  </tbody>\n",
       "</table>\n",
       "</div>"
      ],
      "text/plain": [
       "               prices                    Income                 max_order      \\\n",
       "                 mean   max  min           mean     max    min       mean max   \n",
       "Age_Profile                                                                     \n",
       "Middle-Aged  7.791445  25.0  1.0  107650.738025  592409  25903  34.504716  99   \n",
       "Senior       7.795417  25.0  1.0  115990.045038  593901  29001  34.378952  99   \n",
       "Young        7.784246  25.0  1.0   70637.357613  396364  25911  34.356734  99   \n",
       "\n",
       "                median_days_prior_order             \n",
       "            min                    mean   max  min  \n",
       "Age_Profile                                         \n",
       "Middle-Aged   5                9.972117  30.0  0.0  \n",
       "Senior        5                9.926423  30.0  0.0  \n",
       "Young         5                9.967022  30.0  0.0  "
      ]
     },
     "execution_count": 64,
     "metadata": {},
     "output_type": "execute_result"
    }
   ],
   "source": [
    "# naming each aggregation to avoid overwriting full_merge df\n",
    "age_groups = full_merge.groupby('Age_Profile').agg({'prices': ['mean', 'max', 'min'], 'Income': ['mean', 'max', 'min'], 'max_order': ['mean', 'max', 'min'], 'median_days_prior_order': ['mean', 'max', 'min']})\n",
    "age_groups"
   ]
  },
  {
   "cell_type": "markdown",
   "id": "def00caa",
   "metadata": {},
   "source": [
    "### Parents / No Dependents"
   ]
  },
  {
   "cell_type": "code",
   "execution_count": 65,
   "id": "5ee49919",
   "metadata": {},
   "outputs": [
    {
     "data": {
      "text/html": [
       "<div>\n",
       "<style scoped>\n",
       "    .dataframe tbody tr th:only-of-type {\n",
       "        vertical-align: middle;\n",
       "    }\n",
       "\n",
       "    .dataframe tbody tr th {\n",
       "        vertical-align: top;\n",
       "    }\n",
       "\n",
       "    .dataframe thead tr th {\n",
       "        text-align: left;\n",
       "    }\n",
       "\n",
       "    .dataframe thead tr:last-of-type th {\n",
       "        text-align: right;\n",
       "    }\n",
       "</style>\n",
       "<table border=\"1\" class=\"dataframe\">\n",
       "  <thead>\n",
       "    <tr>\n",
       "      <th></th>\n",
       "      <th></th>\n",
       "      <th colspan=\"3\" halign=\"left\">prices</th>\n",
       "      <th colspan=\"3\" halign=\"left\">Income</th>\n",
       "      <th colspan=\"3\" halign=\"left\">max_order</th>\n",
       "      <th colspan=\"3\" halign=\"left\">median_days_prior_order</th>\n",
       "    </tr>\n",
       "    <tr>\n",
       "      <th></th>\n",
       "      <th></th>\n",
       "      <th>mean</th>\n",
       "      <th>max</th>\n",
       "      <th>min</th>\n",
       "      <th>mean</th>\n",
       "      <th>max</th>\n",
       "      <th>min</th>\n",
       "      <th>mean</th>\n",
       "      <th>max</th>\n",
       "      <th>min</th>\n",
       "      <th>mean</th>\n",
       "      <th>max</th>\n",
       "      <th>min</th>\n",
       "    </tr>\n",
       "    <tr>\n",
       "      <th>Age_Profile</th>\n",
       "      <th>Parent_Flag</th>\n",
       "      <th></th>\n",
       "      <th></th>\n",
       "      <th></th>\n",
       "      <th></th>\n",
       "      <th></th>\n",
       "      <th></th>\n",
       "      <th></th>\n",
       "      <th></th>\n",
       "      <th></th>\n",
       "      <th></th>\n",
       "      <th></th>\n",
       "      <th></th>\n",
       "    </tr>\n",
       "  </thead>\n",
       "  <tbody>\n",
       "    <tr>\n",
       "      <th rowspan=\"2\" valign=\"top\">Middle-Aged</th>\n",
       "      <th>no dependents</th>\n",
       "      <td>7.788908</td>\n",
       "      <td>25.0</td>\n",
       "      <td>1.0</td>\n",
       "      <td>108101.208747</td>\n",
       "      <td>584097</td>\n",
       "      <td>25903</td>\n",
       "      <td>35.006773</td>\n",
       "      <td>99</td>\n",
       "      <td>5</td>\n",
       "      <td>9.915043</td>\n",
       "      <td>30.0</td>\n",
       "      <td>0.0</td>\n",
       "    </tr>\n",
       "    <tr>\n",
       "      <th>parent</th>\n",
       "      <td>7.792295</td>\n",
       "      <td>25.0</td>\n",
       "      <td>1.0</td>\n",
       "      <td>107499.750176</td>\n",
       "      <td>592409</td>\n",
       "      <td>25941</td>\n",
       "      <td>34.336438</td>\n",
       "      <td>99</td>\n",
       "      <td>5</td>\n",
       "      <td>9.991247</td>\n",
       "      <td>30.0</td>\n",
       "      <td>0.0</td>\n",
       "    </tr>\n",
       "    <tr>\n",
       "      <th rowspan=\"2\" valign=\"top\">Senior</th>\n",
       "      <th>no dependents</th>\n",
       "      <td>7.799225</td>\n",
       "      <td>25.0</td>\n",
       "      <td>1.0</td>\n",
       "      <td>116066.944808</td>\n",
       "      <td>576876</td>\n",
       "      <td>29011</td>\n",
       "      <td>34.613354</td>\n",
       "      <td>99</td>\n",
       "      <td>5</td>\n",
       "      <td>9.862679</td>\n",
       "      <td>30.0</td>\n",
       "      <td>0.0</td>\n",
       "    </tr>\n",
       "    <tr>\n",
       "      <th>parent</th>\n",
       "      <td>7.794154</td>\n",
       "      <td>25.0</td>\n",
       "      <td>1.0</td>\n",
       "      <td>115964.530417</td>\n",
       "      <td>593901</td>\n",
       "      <td>29001</td>\n",
       "      <td>34.301180</td>\n",
       "      <td>99</td>\n",
       "      <td>5</td>\n",
       "      <td>9.947572</td>\n",
       "      <td>30.0</td>\n",
       "      <td>0.0</td>\n",
       "    </tr>\n",
       "    <tr>\n",
       "      <th rowspan=\"2\" valign=\"top\">Young</th>\n",
       "      <th>no dependents</th>\n",
       "      <td>7.780359</td>\n",
       "      <td>25.0</td>\n",
       "      <td>1.0</td>\n",
       "      <td>70580.869956</td>\n",
       "      <td>387860</td>\n",
       "      <td>25979</td>\n",
       "      <td>34.243558</td>\n",
       "      <td>99</td>\n",
       "      <td>5</td>\n",
       "      <td>10.046510</td>\n",
       "      <td>30.0</td>\n",
       "      <td>0.0</td>\n",
       "    </tr>\n",
       "    <tr>\n",
       "      <th>parent</th>\n",
       "      <td>7.785536</td>\n",
       "      <td>25.0</td>\n",
       "      <td>1.0</td>\n",
       "      <td>70656.106347</td>\n",
       "      <td>396364</td>\n",
       "      <td>25911</td>\n",
       "      <td>34.394298</td>\n",
       "      <td>99</td>\n",
       "      <td>5</td>\n",
       "      <td>9.940639</td>\n",
       "      <td>30.0</td>\n",
       "      <td>0.0</td>\n",
       "    </tr>\n",
       "  </tbody>\n",
       "</table>\n",
       "</div>"
      ],
      "text/plain": [
       "                             prices                    Income                 \\\n",
       "                               mean   max  min           mean     max    min   \n",
       "Age_Profile Parent_Flag                                                        \n",
       "Middle-Aged no dependents  7.788908  25.0  1.0  108101.208747  584097  25903   \n",
       "            parent         7.792295  25.0  1.0  107499.750176  592409  25941   \n",
       "Senior      no dependents  7.799225  25.0  1.0  116066.944808  576876  29011   \n",
       "            parent         7.794154  25.0  1.0  115964.530417  593901  29001   \n",
       "Young       no dependents  7.780359  25.0  1.0   70580.869956  387860  25979   \n",
       "            parent         7.785536  25.0  1.0   70656.106347  396364  25911   \n",
       "\n",
       "                           max_order         median_days_prior_order        \\\n",
       "                                mean max min                    mean   max   \n",
       "Age_Profile Parent_Flag                                                      \n",
       "Middle-Aged no dependents  35.006773  99   5                9.915043  30.0   \n",
       "            parent         34.336438  99   5                9.991247  30.0   \n",
       "Senior      no dependents  34.613354  99   5                9.862679  30.0   \n",
       "            parent         34.301180  99   5                9.947572  30.0   \n",
       "Young       no dependents  34.243558  99   5               10.046510  30.0   \n",
       "            parent         34.394298  99   5                9.940639  30.0   \n",
       "\n",
       "                                \n",
       "                           min  \n",
       "Age_Profile Parent_Flag         \n",
       "Middle-Aged no dependents  0.0  \n",
       "            parent         0.0  \n",
       "Senior      no dependents  0.0  \n",
       "            parent         0.0  \n",
       "Young       no dependents  0.0  \n",
       "            parent         0.0  "
      ]
     },
     "execution_count": 65,
     "metadata": {},
     "output_type": "execute_result"
    }
   ],
   "source": [
    "dependents = full_merge.groupby(['Age_Profile', 'Parent_Flag']).agg({'prices': ['mean', 'max', 'min'], 'Income': ['mean', 'max', 'min'], 'max_order': ['mean', 'max', 'min'], 'median_days_prior_order': ['mean', 'max', 'min']})\n",
    "dependents"
   ]
  },
  {
   "cell_type": "markdown",
   "id": "ad63e0fa",
   "metadata": {},
   "source": [
    "### High / Low spenders"
   ]
  },
  {
   "cell_type": "code",
   "execution_count": 66,
   "id": "a0b4b06f",
   "metadata": {},
   "outputs": [
    {
     "data": {
      "text/html": [
       "<div>\n",
       "<style scoped>\n",
       "    .dataframe tbody tr th:only-of-type {\n",
       "        vertical-align: middle;\n",
       "    }\n",
       "\n",
       "    .dataframe tbody tr th {\n",
       "        vertical-align: top;\n",
       "    }\n",
       "\n",
       "    .dataframe thead tr th {\n",
       "        text-align: left;\n",
       "    }\n",
       "\n",
       "    .dataframe thead tr:last-of-type th {\n",
       "        text-align: right;\n",
       "    }\n",
       "</style>\n",
       "<table border=\"1\" class=\"dataframe\">\n",
       "  <thead>\n",
       "    <tr>\n",
       "      <th></th>\n",
       "      <th></th>\n",
       "      <th></th>\n",
       "      <th colspan=\"3\" halign=\"left\">prices</th>\n",
       "      <th colspan=\"3\" halign=\"left\">Income</th>\n",
       "      <th colspan=\"3\" halign=\"left\">max_order</th>\n",
       "      <th colspan=\"3\" halign=\"left\">median_days_prior_order</th>\n",
       "    </tr>\n",
       "    <tr>\n",
       "      <th></th>\n",
       "      <th></th>\n",
       "      <th></th>\n",
       "      <th>mean</th>\n",
       "      <th>max</th>\n",
       "      <th>min</th>\n",
       "      <th>mean</th>\n",
       "      <th>max</th>\n",
       "      <th>min</th>\n",
       "      <th>mean</th>\n",
       "      <th>max</th>\n",
       "      <th>min</th>\n",
       "      <th>mean</th>\n",
       "      <th>max</th>\n",
       "      <th>min</th>\n",
       "    </tr>\n",
       "    <tr>\n",
       "      <th>Age_Profile</th>\n",
       "      <th>Parent_Flag</th>\n",
       "      <th>spending_flag</th>\n",
       "      <th></th>\n",
       "      <th></th>\n",
       "      <th></th>\n",
       "      <th></th>\n",
       "      <th></th>\n",
       "      <th></th>\n",
       "      <th></th>\n",
       "      <th></th>\n",
       "      <th></th>\n",
       "      <th></th>\n",
       "      <th></th>\n",
       "      <th></th>\n",
       "    </tr>\n",
       "  </thead>\n",
       "  <tbody>\n",
       "    <tr>\n",
       "      <th rowspan=\"4\" valign=\"top\">Middle-Aged</th>\n",
       "      <th rowspan=\"2\" valign=\"top\">no dependents</th>\n",
       "      <th>High spender</th>\n",
       "      <td>8.433438</td>\n",
       "      <td>25.0</td>\n",
       "      <td>1.0</td>\n",
       "      <td>231989.501617</td>\n",
       "      <td>584097</td>\n",
       "      <td>42263</td>\n",
       "      <td>39.295878</td>\n",
       "      <td>99</td>\n",
       "      <td>5</td>\n",
       "      <td>9.312011</td>\n",
       "      <td>30.0</td>\n",
       "      <td>0.0</td>\n",
       "    </tr>\n",
       "    <tr>\n",
       "      <th>Low spender</th>\n",
       "      <td>7.776593</td>\n",
       "      <td>25.0</td>\n",
       "      <td>1.0</td>\n",
       "      <td>105716.961944</td>\n",
       "      <td>169992</td>\n",
       "      <td>25903</td>\n",
       "      <td>34.924229</td>\n",
       "      <td>99</td>\n",
       "      <td>5</td>\n",
       "      <td>9.926649</td>\n",
       "      <td>30.0</td>\n",
       "      <td>0.0</td>\n",
       "    </tr>\n",
       "    <tr>\n",
       "      <th rowspan=\"2\" valign=\"top\">parent</th>\n",
       "      <th>High spender</th>\n",
       "      <td>8.194270</td>\n",
       "      <td>25.0</td>\n",
       "      <td>1.0</td>\n",
       "      <td>217279.549641</td>\n",
       "      <td>592409</td>\n",
       "      <td>41746</td>\n",
       "      <td>34.394471</td>\n",
       "      <td>99</td>\n",
       "      <td>5</td>\n",
       "      <td>9.808496</td>\n",
       "      <td>30.0</td>\n",
       "      <td>0.0</td>\n",
       "    </tr>\n",
       "    <tr>\n",
       "      <th>Low spender</th>\n",
       "      <td>7.784142</td>\n",
       "      <td>25.0</td>\n",
       "      <td>1.0</td>\n",
       "      <td>105255.275604</td>\n",
       "      <td>169997</td>\n",
       "      <td>25941</td>\n",
       "      <td>34.335251</td>\n",
       "      <td>99</td>\n",
       "      <td>5</td>\n",
       "      <td>9.994985</td>\n",
       "      <td>30.0</td>\n",
       "      <td>0.0</td>\n",
       "    </tr>\n",
       "    <tr>\n",
       "      <th rowspan=\"4\" valign=\"top\">Senior</th>\n",
       "      <th rowspan=\"2\" valign=\"top\">no dependents</th>\n",
       "      <th>High spender</th>\n",
       "      <td>8.212650</td>\n",
       "      <td>25.0</td>\n",
       "      <td>1.0</td>\n",
       "      <td>216789.784213</td>\n",
       "      <td>576876</td>\n",
       "      <td>66899</td>\n",
       "      <td>37.461670</td>\n",
       "      <td>99</td>\n",
       "      <td>5</td>\n",
       "      <td>9.560149</td>\n",
       "      <td>30.0</td>\n",
       "      <td>1.0</td>\n",
       "    </tr>\n",
       "    <tr>\n",
       "      <th>Low spender</th>\n",
       "      <td>7.790530</td>\n",
       "      <td>25.0</td>\n",
       "      <td>1.0</td>\n",
       "      <td>113930.297459</td>\n",
       "      <td>169993</td>\n",
       "      <td>29011</td>\n",
       "      <td>34.552933</td>\n",
       "      <td>99</td>\n",
       "      <td>5</td>\n",
       "      <td>9.869097</td>\n",
       "      <td>30.0</td>\n",
       "      <td>0.0</td>\n",
       "    </tr>\n",
       "    <tr>\n",
       "      <th rowspan=\"2\" valign=\"top\">parent</th>\n",
       "      <th>High spender</th>\n",
       "      <td>8.211375</td>\n",
       "      <td>25.0</td>\n",
       "      <td>1.0</td>\n",
       "      <td>235411.308908</td>\n",
       "      <td>593901</td>\n",
       "      <td>61629</td>\n",
       "      <td>36.179762</td>\n",
       "      <td>99</td>\n",
       "      <td>5</td>\n",
       "      <td>9.313454</td>\n",
       "      <td>30.0</td>\n",
       "      <td>0.0</td>\n",
       "    </tr>\n",
       "    <tr>\n",
       "      <th>Low spender</th>\n",
       "      <td>7.785806</td>\n",
       "      <td>25.0</td>\n",
       "      <td>1.0</td>\n",
       "      <td>113555.726362</td>\n",
       "      <td>169992</td>\n",
       "      <td>29001</td>\n",
       "      <td>34.263296</td>\n",
       "      <td>99</td>\n",
       "      <td>5</td>\n",
       "      <td>9.960360</td>\n",
       "      <td>30.0</td>\n",
       "      <td>0.0</td>\n",
       "    </tr>\n",
       "    <tr>\n",
       "      <th rowspan=\"4\" valign=\"top\">Young</th>\n",
       "      <th rowspan=\"2\" valign=\"top\">no dependents</th>\n",
       "      <th>High spender</th>\n",
       "      <td>8.281582</td>\n",
       "      <td>25.0</td>\n",
       "      <td>1.0</td>\n",
       "      <td>177292.006567</td>\n",
       "      <td>387860</td>\n",
       "      <td>42716</td>\n",
       "      <td>34.364741</td>\n",
       "      <td>96</td>\n",
       "      <td>5</td>\n",
       "      <td>9.790327</td>\n",
       "      <td>30.0</td>\n",
       "      <td>0.0</td>\n",
       "    </tr>\n",
       "    <tr>\n",
       "      <th>Low spender</th>\n",
       "      <td>7.771843</td>\n",
       "      <td>25.0</td>\n",
       "      <td>1.0</td>\n",
       "      <td>68751.670047</td>\n",
       "      <td>101392</td>\n",
       "      <td>25979</td>\n",
       "      <td>34.241480</td>\n",
       "      <td>99</td>\n",
       "      <td>5</td>\n",
       "      <td>10.050901</td>\n",
       "      <td>30.0</td>\n",
       "      <td>0.0</td>\n",
       "    </tr>\n",
       "    <tr>\n",
       "      <th rowspan=\"2\" valign=\"top\">parent</th>\n",
       "      <th>High spender</th>\n",
       "      <td>8.206332</td>\n",
       "      <td>25.0</td>\n",
       "      <td>1.0</td>\n",
       "      <td>161178.798740</td>\n",
       "      <td>396364</td>\n",
       "      <td>42294</td>\n",
       "      <td>36.488553</td>\n",
       "      <td>99</td>\n",
       "      <td>5</td>\n",
       "      <td>9.686443</td>\n",
       "      <td>30.0</td>\n",
       "      <td>0.0</td>\n",
       "    </tr>\n",
       "    <tr>\n",
       "      <th>Low spender</th>\n",
       "      <td>7.777411</td>\n",
       "      <td>25.0</td>\n",
       "      <td>1.0</td>\n",
       "      <td>68892.843961</td>\n",
       "      <td>101398</td>\n",
       "      <td>25911</td>\n",
       "      <td>34.353505</td>\n",
       "      <td>99</td>\n",
       "      <td>5</td>\n",
       "      <td>9.945591</td>\n",
       "      <td>30.0</td>\n",
       "      <td>0.0</td>\n",
       "    </tr>\n",
       "  </tbody>\n",
       "</table>\n",
       "</div>"
      ],
      "text/plain": [
       "                                           prices                    Income  \\\n",
       "                                             mean   max  min           mean   \n",
       "Age_Profile Parent_Flag   spending_flag                                       \n",
       "Middle-Aged no dependents High spender   8.433438  25.0  1.0  231989.501617   \n",
       "                          Low spender    7.776593  25.0  1.0  105716.961944   \n",
       "            parent        High spender   8.194270  25.0  1.0  217279.549641   \n",
       "                          Low spender    7.784142  25.0  1.0  105255.275604   \n",
       "Senior      no dependents High spender   8.212650  25.0  1.0  216789.784213   \n",
       "                          Low spender    7.790530  25.0  1.0  113930.297459   \n",
       "            parent        High spender   8.211375  25.0  1.0  235411.308908   \n",
       "                          Low spender    7.785806  25.0  1.0  113555.726362   \n",
       "Young       no dependents High spender   8.281582  25.0  1.0  177292.006567   \n",
       "                          Low spender    7.771843  25.0  1.0   68751.670047   \n",
       "            parent        High spender   8.206332  25.0  1.0  161178.798740   \n",
       "                          Low spender    7.777411  25.0  1.0   68892.843961   \n",
       "\n",
       "                                                        max_order          \\\n",
       "                                            max    min       mean max min   \n",
       "Age_Profile Parent_Flag   spending_flag                                     \n",
       "Middle-Aged no dependents High spender   584097  42263  39.295878  99   5   \n",
       "                          Low spender    169992  25903  34.924229  99   5   \n",
       "            parent        High spender   592409  41746  34.394471  99   5   \n",
       "                          Low spender    169997  25941  34.335251  99   5   \n",
       "Senior      no dependents High spender   576876  66899  37.461670  99   5   \n",
       "                          Low spender    169993  29011  34.552933  99   5   \n",
       "            parent        High spender   593901  61629  36.179762  99   5   \n",
       "                          Low spender    169992  29001  34.263296  99   5   \n",
       "Young       no dependents High spender   387860  42716  34.364741  96   5   \n",
       "                          Low spender    101392  25979  34.241480  99   5   \n",
       "            parent        High spender   396364  42294  36.488553  99   5   \n",
       "                          Low spender    101398  25911  34.353505  99   5   \n",
       "\n",
       "                                        median_days_prior_order             \n",
       "                                                           mean   max  min  \n",
       "Age_Profile Parent_Flag   spending_flag                                     \n",
       "Middle-Aged no dependents High spender                 9.312011  30.0  0.0  \n",
       "                          Low spender                  9.926649  30.0  0.0  \n",
       "            parent        High spender                 9.808496  30.0  0.0  \n",
       "                          Low spender                  9.994985  30.0  0.0  \n",
       "Senior      no dependents High spender                 9.560149  30.0  1.0  \n",
       "                          Low spender                  9.869097  30.0  0.0  \n",
       "            parent        High spender                 9.313454  30.0  0.0  \n",
       "                          Low spender                  9.960360  30.0  0.0  \n",
       "Young       no dependents High spender                 9.790327  30.0  0.0  \n",
       "                          Low spender                 10.050901  30.0  0.0  \n",
       "            parent        High spender                 9.686443  30.0  0.0  \n",
       "                          Low spender                  9.945591  30.0  0.0  "
      ]
     },
     "execution_count": 66,
     "metadata": {},
     "output_type": "execute_result"
    }
   ],
   "source": [
    "spending = full_merge.groupby(['Age_Profile', 'Parent_Flag', 'spending_flag']).agg({'prices': ['mean', 'max', 'min'], 'Income': ['mean', 'max', 'min'], 'max_order': ['mean', 'max', 'min'], 'median_days_prior_order': ['mean', 'max', 'min']})\n",
    "spending"
   ]
  },
  {
   "cell_type": "markdown",
   "id": "5330d037",
   "metadata": {},
   "source": [
    "### Frequent / Regular / Non-frequent customers"
   ]
  },
  {
   "cell_type": "code",
   "execution_count": 67,
   "id": "a099715d",
   "metadata": {},
   "outputs": [
    {
     "data": {
      "text/html": [
       "<div>\n",
       "<style scoped>\n",
       "    .dataframe tbody tr th:only-of-type {\n",
       "        vertical-align: middle;\n",
       "    }\n",
       "\n",
       "    .dataframe tbody tr th {\n",
       "        vertical-align: top;\n",
       "    }\n",
       "\n",
       "    .dataframe thead tr th {\n",
       "        text-align: left;\n",
       "    }\n",
       "\n",
       "    .dataframe thead tr:last-of-type th {\n",
       "        text-align: right;\n",
       "    }\n",
       "</style>\n",
       "<table border=\"1\" class=\"dataframe\">\n",
       "  <thead>\n",
       "    <tr>\n",
       "      <th></th>\n",
       "      <th></th>\n",
       "      <th></th>\n",
       "      <th></th>\n",
       "      <th colspan=\"3\" halign=\"left\">prices</th>\n",
       "      <th colspan=\"3\" halign=\"left\">Income</th>\n",
       "      <th colspan=\"3\" halign=\"left\">max_order</th>\n",
       "      <th colspan=\"3\" halign=\"left\">median_days_prior_order</th>\n",
       "    </tr>\n",
       "    <tr>\n",
       "      <th></th>\n",
       "      <th></th>\n",
       "      <th></th>\n",
       "      <th></th>\n",
       "      <th>mean</th>\n",
       "      <th>max</th>\n",
       "      <th>min</th>\n",
       "      <th>mean</th>\n",
       "      <th>max</th>\n",
       "      <th>min</th>\n",
       "      <th>mean</th>\n",
       "      <th>max</th>\n",
       "      <th>min</th>\n",
       "      <th>mean</th>\n",
       "      <th>max</th>\n",
       "      <th>min</th>\n",
       "    </tr>\n",
       "    <tr>\n",
       "      <th>Age_Profile</th>\n",
       "      <th>Parent_Flag</th>\n",
       "      <th>spending_flag</th>\n",
       "      <th>frequency_flag</th>\n",
       "      <th></th>\n",
       "      <th></th>\n",
       "      <th></th>\n",
       "      <th></th>\n",
       "      <th></th>\n",
       "      <th></th>\n",
       "      <th></th>\n",
       "      <th></th>\n",
       "      <th></th>\n",
       "      <th></th>\n",
       "      <th></th>\n",
       "      <th></th>\n",
       "    </tr>\n",
       "  </thead>\n",
       "  <tbody>\n",
       "    <tr>\n",
       "      <th rowspan=\"12\" valign=\"top\">Middle-Aged</th>\n",
       "      <th rowspan=\"6\" valign=\"top\">no dependents</th>\n",
       "      <th rowspan=\"3\" valign=\"top\">High spender</th>\n",
       "      <th>Frequent customer</th>\n",
       "      <td>8.354962</td>\n",
       "      <td>25.0</td>\n",
       "      <td>1.0</td>\n",
       "      <td>234423.490939</td>\n",
       "      <td>584097</td>\n",
       "      <td>43518</td>\n",
       "      <td>49.869531</td>\n",
       "      <td>99</td>\n",
       "      <td>5</td>\n",
       "      <td>5.758389</td>\n",
       "      <td>10.0</td>\n",
       "      <td>0.0</td>\n",
       "    </tr>\n",
       "    <tr>\n",
       "      <th>Non-frequent customer</th>\n",
       "      <td>8.819130</td>\n",
       "      <td>25.0</td>\n",
       "      <td>1.0</td>\n",
       "      <td>183202.080927</td>\n",
       "      <td>531126</td>\n",
       "      <td>42263</td>\n",
       "      <td>8.898289</td>\n",
       "      <td>17</td>\n",
       "      <td>5</td>\n",
       "      <td>27.094629</td>\n",
       "      <td>30.0</td>\n",
       "      <td>21.0</td>\n",
       "    </tr>\n",
       "    <tr>\n",
       "      <th>Regular customer</th>\n",
       "      <td>8.531565</td>\n",
       "      <td>25.0</td>\n",
       "      <td>1.0</td>\n",
       "      <td>244062.872052</td>\n",
       "      <td>569810</td>\n",
       "      <td>48794</td>\n",
       "      <td>17.368171</td>\n",
       "      <td>31</td>\n",
       "      <td>5</td>\n",
       "      <td>13.581607</td>\n",
       "      <td>20.0</td>\n",
       "      <td>10.5</td>\n",
       "    </tr>\n",
       "    <tr>\n",
       "      <th rowspan=\"3\" valign=\"top\">Low spender</th>\n",
       "      <th>Frequent customer</th>\n",
       "      <td>7.776361</td>\n",
       "      <td>25.0</td>\n",
       "      <td>1.0</td>\n",
       "      <td>105875.391116</td>\n",
       "      <td>169986</td>\n",
       "      <td>26234</td>\n",
       "      <td>44.381693</td>\n",
       "      <td>99</td>\n",
       "      <td>5</td>\n",
       "      <td>6.250304</td>\n",
       "      <td>10.0</td>\n",
       "      <td>0.0</td>\n",
       "    </tr>\n",
       "    <tr>\n",
       "      <th>Non-frequent customer</th>\n",
       "      <td>7.769705</td>\n",
       "      <td>25.0</td>\n",
       "      <td>1.0</td>\n",
       "      <td>103957.851824</td>\n",
       "      <td>169991</td>\n",
       "      <td>26320</td>\n",
       "      <td>9.088379</td>\n",
       "      <td>22</td>\n",
       "      <td>5</td>\n",
       "      <td>26.549669</td>\n",
       "      <td>30.0</td>\n",
       "      <td>20.5</td>\n",
       "    </tr>\n",
       "    <tr>\n",
       "      <th>Regular customer</th>\n",
       "      <td>7.780137</td>\n",
       "      <td>25.0</td>\n",
       "      <td>1.0</td>\n",
       "      <td>105958.313428</td>\n",
       "      <td>169992</td>\n",
       "      <td>25903</td>\n",
       "      <td>16.731438</td>\n",
       "      <td>41</td>\n",
       "      <td>5</td>\n",
       "      <td>14.289297</td>\n",
       "      <td>20.0</td>\n",
       "      <td>10.5</td>\n",
       "    </tr>\n",
       "    <tr>\n",
       "      <th rowspan=\"6\" valign=\"top\">parent</th>\n",
       "      <th rowspan=\"3\" valign=\"top\">High spender</th>\n",
       "      <th>Frequent customer</th>\n",
       "      <td>8.081530</td>\n",
       "      <td>25.0</td>\n",
       "      <td>1.0</td>\n",
       "      <td>218887.341544</td>\n",
       "      <td>592409</td>\n",
       "      <td>45482</td>\n",
       "      <td>43.176446</td>\n",
       "      <td>99</td>\n",
       "      <td>5</td>\n",
       "      <td>6.213974</td>\n",
       "      <td>10.0</td>\n",
       "      <td>0.0</td>\n",
       "    </tr>\n",
       "    <tr>\n",
       "      <th>Non-frequent customer</th>\n",
       "      <td>8.716770</td>\n",
       "      <td>25.0</td>\n",
       "      <td>1.0</td>\n",
       "      <td>198258.856600</td>\n",
       "      <td>544217</td>\n",
       "      <td>41746</td>\n",
       "      <td>9.946756</td>\n",
       "      <td>22</td>\n",
       "      <td>5</td>\n",
       "      <td>26.200476</td>\n",
       "      <td>30.0</td>\n",
       "      <td>21.0</td>\n",
       "    </tr>\n",
       "    <tr>\n",
       "      <th>Regular customer</th>\n",
       "      <td>8.319723</td>\n",
       "      <td>25.0</td>\n",
       "      <td>1.0</td>\n",
       "      <td>220082.394305</td>\n",
       "      <td>590790</td>\n",
       "      <td>42266</td>\n",
       "      <td>18.251423</td>\n",
       "      <td>34</td>\n",
       "      <td>5</td>\n",
       "      <td>13.887995</td>\n",
       "      <td>20.0</td>\n",
       "      <td>10.5</td>\n",
       "    </tr>\n",
       "    <tr>\n",
       "      <th rowspan=\"3\" valign=\"top\">Low spender</th>\n",
       "      <th>Frequent customer</th>\n",
       "      <td>7.787614</td>\n",
       "      <td>25.0</td>\n",
       "      <td>1.0</td>\n",
       "      <td>105572.181358</td>\n",
       "      <td>169987</td>\n",
       "      <td>26116</td>\n",
       "      <td>43.555542</td>\n",
       "      <td>99</td>\n",
       "      <td>5</td>\n",
       "      <td>6.311327</td>\n",
       "      <td>10.0</td>\n",
       "      <td>0.0</td>\n",
       "    </tr>\n",
       "    <tr>\n",
       "      <th>Non-frequent customer</th>\n",
       "      <td>7.753898</td>\n",
       "      <td>25.0</td>\n",
       "      <td>1.0</td>\n",
       "      <td>103570.605956</td>\n",
       "      <td>169979</td>\n",
       "      <td>26187</td>\n",
       "      <td>9.188252</td>\n",
       "      <td>25</td>\n",
       "      <td>5</td>\n",
       "      <td>26.487019</td>\n",
       "      <td>30.0</td>\n",
       "      <td>20.5</td>\n",
       "    </tr>\n",
       "    <tr>\n",
       "      <th>Regular customer</th>\n",
       "      <td>7.786386</td>\n",
       "      <td>25.0</td>\n",
       "      <td>1.0</td>\n",
       "      <td>104999.832365</td>\n",
       "      <td>169997</td>\n",
       "      <td>25941</td>\n",
       "      <td>16.688613</td>\n",
       "      <td>45</td>\n",
       "      <td>5</td>\n",
       "      <td>14.286726</td>\n",
       "      <td>20.0</td>\n",
       "      <td>10.5</td>\n",
       "    </tr>\n",
       "    <tr>\n",
       "      <th rowspan=\"12\" valign=\"top\">Senior</th>\n",
       "      <th rowspan=\"6\" valign=\"top\">no dependents</th>\n",
       "      <th rowspan=\"3\" valign=\"top\">High spender</th>\n",
       "      <th>Frequent customer</th>\n",
       "      <td>8.185575</td>\n",
       "      <td>25.0</td>\n",
       "      <td>1.0</td>\n",
       "      <td>219997.493696</td>\n",
       "      <td>540828</td>\n",
       "      <td>75193</td>\n",
       "      <td>48.251540</td>\n",
       "      <td>99</td>\n",
       "      <td>5</td>\n",
       "      <td>5.953206</td>\n",
       "      <td>10.0</td>\n",
       "      <td>1.0</td>\n",
       "    </tr>\n",
       "    <tr>\n",
       "      <th>Non-frequent customer</th>\n",
       "      <td>8.529850</td>\n",
       "      <td>25.0</td>\n",
       "      <td>1.0</td>\n",
       "      <td>200300.829708</td>\n",
       "      <td>473722</td>\n",
       "      <td>93887</td>\n",
       "      <td>8.616180</td>\n",
       "      <td>17</td>\n",
       "      <td>5</td>\n",
       "      <td>26.297215</td>\n",
       "      <td>30.0</td>\n",
       "      <td>20.5</td>\n",
       "    </tr>\n",
       "    <tr>\n",
       "      <th>Regular customer</th>\n",
       "      <td>8.184715</td>\n",
       "      <td>25.0</td>\n",
       "      <td>1.0</td>\n",
       "      <td>213527.126585</td>\n",
       "      <td>576876</td>\n",
       "      <td>66899</td>\n",
       "      <td>18.167869</td>\n",
       "      <td>33</td>\n",
       "      <td>5</td>\n",
       "      <td>13.792713</td>\n",
       "      <td>20.0</td>\n",
       "      <td>10.5</td>\n",
       "    </tr>\n",
       "    <tr>\n",
       "      <th rowspan=\"3\" valign=\"top\">Low spender</th>\n",
       "      <th>Frequent customer</th>\n",
       "      <td>7.792956</td>\n",
       "      <td>25.0</td>\n",
       "      <td>1.0</td>\n",
       "      <td>114233.220209</td>\n",
       "      <td>169992</td>\n",
       "      <td>29229</td>\n",
       "      <td>43.611238</td>\n",
       "      <td>99</td>\n",
       "      <td>5</td>\n",
       "      <td>6.293810</td>\n",
       "      <td>10.0</td>\n",
       "      <td>0.0</td>\n",
       "    </tr>\n",
       "    <tr>\n",
       "      <th>Non-frequent customer</th>\n",
       "      <td>7.761248</td>\n",
       "      <td>25.0</td>\n",
       "      <td>1.0</td>\n",
       "      <td>112572.695039</td>\n",
       "      <td>169989</td>\n",
       "      <td>29455</td>\n",
       "      <td>9.274457</td>\n",
       "      <td>21</td>\n",
       "      <td>5</td>\n",
       "      <td>26.557405</td>\n",
       "      <td>30.0</td>\n",
       "      <td>20.5</td>\n",
       "    </tr>\n",
       "    <tr>\n",
       "      <th>Regular customer</th>\n",
       "      <td>7.795167</td>\n",
       "      <td>25.0</td>\n",
       "      <td>1.0</td>\n",
       "      <td>113543.866613</td>\n",
       "      <td>169993</td>\n",
       "      <td>29011</td>\n",
       "      <td>16.564472</td>\n",
       "      <td>42</td>\n",
       "      <td>5</td>\n",
       "      <td>14.150715</td>\n",
       "      <td>20.0</td>\n",
       "      <td>10.5</td>\n",
       "    </tr>\n",
       "    <tr>\n",
       "      <th rowspan=\"6\" valign=\"top\">parent</th>\n",
       "      <th rowspan=\"3\" valign=\"top\">High spender</th>\n",
       "      <th>Frequent customer</th>\n",
       "      <td>8.105669</td>\n",
       "      <td>25.0</td>\n",
       "      <td>1.0</td>\n",
       "      <td>241029.207990</td>\n",
       "      <td>593901</td>\n",
       "      <td>65961</td>\n",
       "      <td>44.282189</td>\n",
       "      <td>99</td>\n",
       "      <td>5</td>\n",
       "      <td>6.238441</td>\n",
       "      <td>10.0</td>\n",
       "      <td>0.0</td>\n",
       "    </tr>\n",
       "    <tr>\n",
       "      <th>Non-frequent customer</th>\n",
       "      <td>9.139030</td>\n",
       "      <td>25.0</td>\n",
       "      <td>1.0</td>\n",
       "      <td>207972.989601</td>\n",
       "      <td>515638</td>\n",
       "      <td>61683</td>\n",
       "      <td>8.764537</td>\n",
       "      <td>18</td>\n",
       "      <td>5</td>\n",
       "      <td>26.359402</td>\n",
       "      <td>30.0</td>\n",
       "      <td>21.0</td>\n",
       "    </tr>\n",
       "    <tr>\n",
       "      <th>Regular customer</th>\n",
       "      <td>8.271729</td>\n",
       "      <td>25.0</td>\n",
       "      <td>1.0</td>\n",
       "      <td>224970.099458</td>\n",
       "      <td>578551</td>\n",
       "      <td>61629</td>\n",
       "      <td>17.064157</td>\n",
       "      <td>35</td>\n",
       "      <td>5</td>\n",
       "      <td>14.352087</td>\n",
       "      <td>20.0</td>\n",
       "      <td>11.0</td>\n",
       "    </tr>\n",
       "    <tr>\n",
       "      <th rowspan=\"3\" valign=\"top\">Low spender</th>\n",
       "      <th>Frequent customer</th>\n",
       "      <td>7.785785</td>\n",
       "      <td>25.0</td>\n",
       "      <td>1.0</td>\n",
       "      <td>113899.232135</td>\n",
       "      <td>169989</td>\n",
       "      <td>29050</td>\n",
       "      <td>43.416430</td>\n",
       "      <td>99</td>\n",
       "      <td>5</td>\n",
       "      <td>6.294423</td>\n",
       "      <td>10.0</td>\n",
       "      <td>0.0</td>\n",
       "    </tr>\n",
       "    <tr>\n",
       "      <th>Non-frequent customer</th>\n",
       "      <td>7.788806</td>\n",
       "      <td>25.0</td>\n",
       "      <td>1.0</td>\n",
       "      <td>111499.603067</td>\n",
       "      <td>169990</td>\n",
       "      <td>29113</td>\n",
       "      <td>9.119660</td>\n",
       "      <td>22</td>\n",
       "      <td>5</td>\n",
       "      <td>26.564968</td>\n",
       "      <td>30.0</td>\n",
       "      <td>20.5</td>\n",
       "    </tr>\n",
       "    <tr>\n",
       "      <th>Regular customer</th>\n",
       "      <td>7.784587</td>\n",
       "      <td>25.0</td>\n",
       "      <td>1.0</td>\n",
       "      <td>113359.269624</td>\n",
       "      <td>169992</td>\n",
       "      <td>29001</td>\n",
       "      <td>16.352386</td>\n",
       "      <td>44</td>\n",
       "      <td>5</td>\n",
       "      <td>14.339785</td>\n",
       "      <td>20.0</td>\n",
       "      <td>10.5</td>\n",
       "    </tr>\n",
       "    <tr>\n",
       "      <th rowspan=\"12\" valign=\"top\">Young</th>\n",
       "      <th rowspan=\"6\" valign=\"top\">no dependents</th>\n",
       "      <th rowspan=\"3\" valign=\"top\">High spender</th>\n",
       "      <th>Frequent customer</th>\n",
       "      <td>8.138195</td>\n",
       "      <td>25.0</td>\n",
       "      <td>1.0</td>\n",
       "      <td>180570.285612</td>\n",
       "      <td>383106</td>\n",
       "      <td>44024</td>\n",
       "      <td>43.736165</td>\n",
       "      <td>96</td>\n",
       "      <td>5</td>\n",
       "      <td>6.248811</td>\n",
       "      <td>10.0</td>\n",
       "      <td>0.0</td>\n",
       "    </tr>\n",
       "    <tr>\n",
       "      <th>Non-frequent customer</th>\n",
       "      <td>9.278782</td>\n",
       "      <td>25.0</td>\n",
       "      <td>1.0</td>\n",
       "      <td>166252.440753</td>\n",
       "      <td>385324</td>\n",
       "      <td>42716</td>\n",
       "      <td>7.684589</td>\n",
       "      <td>17</td>\n",
       "      <td>5</td>\n",
       "      <td>27.315069</td>\n",
       "      <td>30.0</td>\n",
       "      <td>20.5</td>\n",
       "    </tr>\n",
       "    <tr>\n",
       "      <th>Regular customer</th>\n",
       "      <td>8.359795</td>\n",
       "      <td>25.0</td>\n",
       "      <td>1.0</td>\n",
       "      <td>171601.391066</td>\n",
       "      <td>387860</td>\n",
       "      <td>44799</td>\n",
       "      <td>16.470010</td>\n",
       "      <td>31</td>\n",
       "      <td>5</td>\n",
       "      <td>14.070148</td>\n",
       "      <td>20.0</td>\n",
       "      <td>10.5</td>\n",
       "    </tr>\n",
       "    <tr>\n",
       "      <th rowspan=\"3\" valign=\"top\">Low spender</th>\n",
       "      <th>Frequent customer</th>\n",
       "      <td>7.793641</td>\n",
       "      <td>25.0</td>\n",
       "      <td>1.0</td>\n",
       "      <td>69085.784172</td>\n",
       "      <td>101392</td>\n",
       "      <td>25979</td>\n",
       "      <td>43.753980</td>\n",
       "      <td>99</td>\n",
       "      <td>5</td>\n",
       "      <td>6.322961</td>\n",
       "      <td>10.0</td>\n",
       "      <td>0.0</td>\n",
       "    </tr>\n",
       "    <tr>\n",
       "      <th>Non-frequent customer</th>\n",
       "      <td>7.731354</td>\n",
       "      <td>25.0</td>\n",
       "      <td>1.0</td>\n",
       "      <td>67446.170020</td>\n",
       "      <td>101381</td>\n",
       "      <td>25991</td>\n",
       "      <td>9.221918</td>\n",
       "      <td>22</td>\n",
       "      <td>5</td>\n",
       "      <td>26.429308</td>\n",
       "      <td>30.0</td>\n",
       "      <td>20.5</td>\n",
       "    </tr>\n",
       "    <tr>\n",
       "      <th>Regular customer</th>\n",
       "      <td>7.724724</td>\n",
       "      <td>25.0</td>\n",
       "      <td>1.0</td>\n",
       "      <td>68309.705984</td>\n",
       "      <td>101386</td>\n",
       "      <td>26067</td>\n",
       "      <td>16.686535</td>\n",
       "      <td>37</td>\n",
       "      <td>5</td>\n",
       "      <td>14.240640</td>\n",
       "      <td>20.0</td>\n",
       "      <td>10.5</td>\n",
       "    </tr>\n",
       "    <tr>\n",
       "      <th rowspan=\"6\" valign=\"top\">parent</th>\n",
       "      <th rowspan=\"3\" valign=\"top\">High spender</th>\n",
       "      <th>Frequent customer</th>\n",
       "      <td>8.083116</td>\n",
       "      <td>25.0</td>\n",
       "      <td>1.0</td>\n",
       "      <td>164376.229220</td>\n",
       "      <td>396364</td>\n",
       "      <td>42294</td>\n",
       "      <td>46.412266</td>\n",
       "      <td>99</td>\n",
       "      <td>5</td>\n",
       "      <td>6.119122</td>\n",
       "      <td>10.0</td>\n",
       "      <td>0.0</td>\n",
       "    </tr>\n",
       "    <tr>\n",
       "      <th>Non-frequent customer</th>\n",
       "      <td>8.751449</td>\n",
       "      <td>25.0</td>\n",
       "      <td>1.0</td>\n",
       "      <td>154313.110263</td>\n",
       "      <td>388874</td>\n",
       "      <td>42921</td>\n",
       "      <td>9.933875</td>\n",
       "      <td>18</td>\n",
       "      <td>5</td>\n",
       "      <td>26.132042</td>\n",
       "      <td>30.0</td>\n",
       "      <td>20.5</td>\n",
       "    </tr>\n",
       "    <tr>\n",
       "      <th>Regular customer</th>\n",
       "      <td>8.366202</td>\n",
       "      <td>25.0</td>\n",
       "      <td>1.0</td>\n",
       "      <td>153708.019005</td>\n",
       "      <td>392552</td>\n",
       "      <td>42812</td>\n",
       "      <td>15.714918</td>\n",
       "      <td>29</td>\n",
       "      <td>5</td>\n",
       "      <td>13.980193</td>\n",
       "      <td>20.0</td>\n",
       "      <td>10.5</td>\n",
       "    </tr>\n",
       "    <tr>\n",
       "      <th rowspan=\"3\" valign=\"top\">Low spender</th>\n",
       "      <th>Frequent customer</th>\n",
       "      <td>7.774852</td>\n",
       "      <td>25.0</td>\n",
       "      <td>1.0</td>\n",
       "      <td>69005.336035</td>\n",
       "      <td>101398</td>\n",
       "      <td>25955</td>\n",
       "      <td>43.421095</td>\n",
       "      <td>99</td>\n",
       "      <td>5</td>\n",
       "      <td>6.318292</td>\n",
       "      <td>10.0</td>\n",
       "      <td>0.0</td>\n",
       "    </tr>\n",
       "    <tr>\n",
       "      <th>Non-frequent customer</th>\n",
       "      <td>7.759612</td>\n",
       "      <td>25.0</td>\n",
       "      <td>1.0</td>\n",
       "      <td>67701.337406</td>\n",
       "      <td>101394</td>\n",
       "      <td>25911</td>\n",
       "      <td>9.192430</td>\n",
       "      <td>25</td>\n",
       "      <td>5</td>\n",
       "      <td>26.524134</td>\n",
       "      <td>30.0</td>\n",
       "      <td>20.5</td>\n",
       "    </tr>\n",
       "    <tr>\n",
       "      <th>Regular customer</th>\n",
       "      <td>7.792825</td>\n",
       "      <td>25.0</td>\n",
       "      <td>1.0</td>\n",
       "      <td>69043.305638</td>\n",
       "      <td>101393</td>\n",
       "      <td>26006</td>\n",
       "      <td>16.741207</td>\n",
       "      <td>44</td>\n",
       "      <td>5</td>\n",
       "      <td>14.258158</td>\n",
       "      <td>20.0</td>\n",
       "      <td>10.5</td>\n",
       "    </tr>\n",
       "  </tbody>\n",
       "</table>\n",
       "</div>"
      ],
      "text/plain": [
       "                                                                 prices        \\\n",
       "                                                                   mean   max   \n",
       "Age_Profile Parent_Flag   spending_flag frequency_flag                          \n",
       "Middle-Aged no dependents High spender  Frequent customer      8.354962  25.0   \n",
       "                                        Non-frequent customer  8.819130  25.0   \n",
       "                                        Regular customer       8.531565  25.0   \n",
       "                          Low spender   Frequent customer      7.776361  25.0   \n",
       "                                        Non-frequent customer  7.769705  25.0   \n",
       "                                        Regular customer       7.780137  25.0   \n",
       "            parent        High spender  Frequent customer      8.081530  25.0   \n",
       "                                        Non-frequent customer  8.716770  25.0   \n",
       "                                        Regular customer       8.319723  25.0   \n",
       "                          Low spender   Frequent customer      7.787614  25.0   \n",
       "                                        Non-frequent customer  7.753898  25.0   \n",
       "                                        Regular customer       7.786386  25.0   \n",
       "Senior      no dependents High spender  Frequent customer      8.185575  25.0   \n",
       "                                        Non-frequent customer  8.529850  25.0   \n",
       "                                        Regular customer       8.184715  25.0   \n",
       "                          Low spender   Frequent customer      7.792956  25.0   \n",
       "                                        Non-frequent customer  7.761248  25.0   \n",
       "                                        Regular customer       7.795167  25.0   \n",
       "            parent        High spender  Frequent customer      8.105669  25.0   \n",
       "                                        Non-frequent customer  9.139030  25.0   \n",
       "                                        Regular customer       8.271729  25.0   \n",
       "                          Low spender   Frequent customer      7.785785  25.0   \n",
       "                                        Non-frequent customer  7.788806  25.0   \n",
       "                                        Regular customer       7.784587  25.0   \n",
       "Young       no dependents High spender  Frequent customer      8.138195  25.0   \n",
       "                                        Non-frequent customer  9.278782  25.0   \n",
       "                                        Regular customer       8.359795  25.0   \n",
       "                          Low spender   Frequent customer      7.793641  25.0   \n",
       "                                        Non-frequent customer  7.731354  25.0   \n",
       "                                        Regular customer       7.724724  25.0   \n",
       "            parent        High spender  Frequent customer      8.083116  25.0   \n",
       "                                        Non-frequent customer  8.751449  25.0   \n",
       "                                        Regular customer       8.366202  25.0   \n",
       "                          Low spender   Frequent customer      7.774852  25.0   \n",
       "                                        Non-frequent customer  7.759612  25.0   \n",
       "                                        Regular customer       7.792825  25.0   \n",
       "\n",
       "                                                                    \\\n",
       "                                                               min   \n",
       "Age_Profile Parent_Flag   spending_flag frequency_flag               \n",
       "Middle-Aged no dependents High spender  Frequent customer      1.0   \n",
       "                                        Non-frequent customer  1.0   \n",
       "                                        Regular customer       1.0   \n",
       "                          Low spender   Frequent customer      1.0   \n",
       "                                        Non-frequent customer  1.0   \n",
       "                                        Regular customer       1.0   \n",
       "            parent        High spender  Frequent customer      1.0   \n",
       "                                        Non-frequent customer  1.0   \n",
       "                                        Regular customer       1.0   \n",
       "                          Low spender   Frequent customer      1.0   \n",
       "                                        Non-frequent customer  1.0   \n",
       "                                        Regular customer       1.0   \n",
       "Senior      no dependents High spender  Frequent customer      1.0   \n",
       "                                        Non-frequent customer  1.0   \n",
       "                                        Regular customer       1.0   \n",
       "                          Low spender   Frequent customer      1.0   \n",
       "                                        Non-frequent customer  1.0   \n",
       "                                        Regular customer       1.0   \n",
       "            parent        High spender  Frequent customer      1.0   \n",
       "                                        Non-frequent customer  1.0   \n",
       "                                        Regular customer       1.0   \n",
       "                          Low spender   Frequent customer      1.0   \n",
       "                                        Non-frequent customer  1.0   \n",
       "                                        Regular customer       1.0   \n",
       "Young       no dependents High spender  Frequent customer      1.0   \n",
       "                                        Non-frequent customer  1.0   \n",
       "                                        Regular customer       1.0   \n",
       "                          Low spender   Frequent customer      1.0   \n",
       "                                        Non-frequent customer  1.0   \n",
       "                                        Regular customer       1.0   \n",
       "            parent        High spender  Frequent customer      1.0   \n",
       "                                        Non-frequent customer  1.0   \n",
       "                                        Regular customer       1.0   \n",
       "                          Low spender   Frequent customer      1.0   \n",
       "                                        Non-frequent customer  1.0   \n",
       "                                        Regular customer       1.0   \n",
       "\n",
       "                                                                      Income  \\\n",
       "                                                                        mean   \n",
       "Age_Profile Parent_Flag   spending_flag frequency_flag                         \n",
       "Middle-Aged no dependents High spender  Frequent customer      234423.490939   \n",
       "                                        Non-frequent customer  183202.080927   \n",
       "                                        Regular customer       244062.872052   \n",
       "                          Low spender   Frequent customer      105875.391116   \n",
       "                                        Non-frequent customer  103957.851824   \n",
       "                                        Regular customer       105958.313428   \n",
       "            parent        High spender  Frequent customer      218887.341544   \n",
       "                                        Non-frequent customer  198258.856600   \n",
       "                                        Regular customer       220082.394305   \n",
       "                          Low spender   Frequent customer      105572.181358   \n",
       "                                        Non-frequent customer  103570.605956   \n",
       "                                        Regular customer       104999.832365   \n",
       "Senior      no dependents High spender  Frequent customer      219997.493696   \n",
       "                                        Non-frequent customer  200300.829708   \n",
       "                                        Regular customer       213527.126585   \n",
       "                          Low spender   Frequent customer      114233.220209   \n",
       "                                        Non-frequent customer  112572.695039   \n",
       "                                        Regular customer       113543.866613   \n",
       "            parent        High spender  Frequent customer      241029.207990   \n",
       "                                        Non-frequent customer  207972.989601   \n",
       "                                        Regular customer       224970.099458   \n",
       "                          Low spender   Frequent customer      113899.232135   \n",
       "                                        Non-frequent customer  111499.603067   \n",
       "                                        Regular customer       113359.269624   \n",
       "Young       no dependents High spender  Frequent customer      180570.285612   \n",
       "                                        Non-frequent customer  166252.440753   \n",
       "                                        Regular customer       171601.391066   \n",
       "                          Low spender   Frequent customer       69085.784172   \n",
       "                                        Non-frequent customer   67446.170020   \n",
       "                                        Regular customer        68309.705984   \n",
       "            parent        High spender  Frequent customer      164376.229220   \n",
       "                                        Non-frequent customer  154313.110263   \n",
       "                                        Regular customer       153708.019005   \n",
       "                          Low spender   Frequent customer       69005.336035   \n",
       "                                        Non-frequent customer   67701.337406   \n",
       "                                        Regular customer        69043.305638   \n",
       "\n",
       "                                                                              \\\n",
       "                                                                  max    min   \n",
       "Age_Profile Parent_Flag   spending_flag frequency_flag                         \n",
       "Middle-Aged no dependents High spender  Frequent customer      584097  43518   \n",
       "                                        Non-frequent customer  531126  42263   \n",
       "                                        Regular customer       569810  48794   \n",
       "                          Low spender   Frequent customer      169986  26234   \n",
       "                                        Non-frequent customer  169991  26320   \n",
       "                                        Regular customer       169992  25903   \n",
       "            parent        High spender  Frequent customer      592409  45482   \n",
       "                                        Non-frequent customer  544217  41746   \n",
       "                                        Regular customer       590790  42266   \n",
       "                          Low spender   Frequent customer      169987  26116   \n",
       "                                        Non-frequent customer  169979  26187   \n",
       "                                        Regular customer       169997  25941   \n",
       "Senior      no dependents High spender  Frequent customer      540828  75193   \n",
       "                                        Non-frequent customer  473722  93887   \n",
       "                                        Regular customer       576876  66899   \n",
       "                          Low spender   Frequent customer      169992  29229   \n",
       "                                        Non-frequent customer  169989  29455   \n",
       "                                        Regular customer       169993  29011   \n",
       "            parent        High spender  Frequent customer      593901  65961   \n",
       "                                        Non-frequent customer  515638  61683   \n",
       "                                        Regular customer       578551  61629   \n",
       "                          Low spender   Frequent customer      169989  29050   \n",
       "                                        Non-frequent customer  169990  29113   \n",
       "                                        Regular customer       169992  29001   \n",
       "Young       no dependents High spender  Frequent customer      383106  44024   \n",
       "                                        Non-frequent customer  385324  42716   \n",
       "                                        Regular customer       387860  44799   \n",
       "                          Low spender   Frequent customer      101392  25979   \n",
       "                                        Non-frequent customer  101381  25991   \n",
       "                                        Regular customer       101386  26067   \n",
       "            parent        High spender  Frequent customer      396364  42294   \n",
       "                                        Non-frequent customer  388874  42921   \n",
       "                                        Regular customer       392552  42812   \n",
       "                          Low spender   Frequent customer      101398  25955   \n",
       "                                        Non-frequent customer  101394  25911   \n",
       "                                        Regular customer       101393  26006   \n",
       "\n",
       "                                                               max_order      \\\n",
       "                                                                    mean max   \n",
       "Age_Profile Parent_Flag   spending_flag frequency_flag                         \n",
       "Middle-Aged no dependents High spender  Frequent customer      49.869531  99   \n",
       "                                        Non-frequent customer   8.898289  17   \n",
       "                                        Regular customer       17.368171  31   \n",
       "                          Low spender   Frequent customer      44.381693  99   \n",
       "                                        Non-frequent customer   9.088379  22   \n",
       "                                        Regular customer       16.731438  41   \n",
       "            parent        High spender  Frequent customer      43.176446  99   \n",
       "                                        Non-frequent customer   9.946756  22   \n",
       "                                        Regular customer       18.251423  34   \n",
       "                          Low spender   Frequent customer      43.555542  99   \n",
       "                                        Non-frequent customer   9.188252  25   \n",
       "                                        Regular customer       16.688613  45   \n",
       "Senior      no dependents High spender  Frequent customer      48.251540  99   \n",
       "                                        Non-frequent customer   8.616180  17   \n",
       "                                        Regular customer       18.167869  33   \n",
       "                          Low spender   Frequent customer      43.611238  99   \n",
       "                                        Non-frequent customer   9.274457  21   \n",
       "                                        Regular customer       16.564472  42   \n",
       "            parent        High spender  Frequent customer      44.282189  99   \n",
       "                                        Non-frequent customer   8.764537  18   \n",
       "                                        Regular customer       17.064157  35   \n",
       "                          Low spender   Frequent customer      43.416430  99   \n",
       "                                        Non-frequent customer   9.119660  22   \n",
       "                                        Regular customer       16.352386  44   \n",
       "Young       no dependents High spender  Frequent customer      43.736165  96   \n",
       "                                        Non-frequent customer   7.684589  17   \n",
       "                                        Regular customer       16.470010  31   \n",
       "                          Low spender   Frequent customer      43.753980  99   \n",
       "                                        Non-frequent customer   9.221918  22   \n",
       "                                        Regular customer       16.686535  37   \n",
       "            parent        High spender  Frequent customer      46.412266  99   \n",
       "                                        Non-frequent customer   9.933875  18   \n",
       "                                        Regular customer       15.714918  29   \n",
       "                          Low spender   Frequent customer      43.421095  99   \n",
       "                                        Non-frequent customer   9.192430  25   \n",
       "                                        Regular customer       16.741207  44   \n",
       "\n",
       "                                                                   \\\n",
       "                                                              min   \n",
       "Age_Profile Parent_Flag   spending_flag frequency_flag              \n",
       "Middle-Aged no dependents High spender  Frequent customer       5   \n",
       "                                        Non-frequent customer   5   \n",
       "                                        Regular customer        5   \n",
       "                          Low spender   Frequent customer       5   \n",
       "                                        Non-frequent customer   5   \n",
       "                                        Regular customer        5   \n",
       "            parent        High spender  Frequent customer       5   \n",
       "                                        Non-frequent customer   5   \n",
       "                                        Regular customer        5   \n",
       "                          Low spender   Frequent customer       5   \n",
       "                                        Non-frequent customer   5   \n",
       "                                        Regular customer        5   \n",
       "Senior      no dependents High spender  Frequent customer       5   \n",
       "                                        Non-frequent customer   5   \n",
       "                                        Regular customer        5   \n",
       "                          Low spender   Frequent customer       5   \n",
       "                                        Non-frequent customer   5   \n",
       "                                        Regular customer        5   \n",
       "            parent        High spender  Frequent customer       5   \n",
       "                                        Non-frequent customer   5   \n",
       "                                        Regular customer        5   \n",
       "                          Low spender   Frequent customer       5   \n",
       "                                        Non-frequent customer   5   \n",
       "                                        Regular customer        5   \n",
       "Young       no dependents High spender  Frequent customer       5   \n",
       "                                        Non-frequent customer   5   \n",
       "                                        Regular customer        5   \n",
       "                          Low spender   Frequent customer       5   \n",
       "                                        Non-frequent customer   5   \n",
       "                                        Regular customer        5   \n",
       "            parent        High spender  Frequent customer       5   \n",
       "                                        Non-frequent customer   5   \n",
       "                                        Regular customer        5   \n",
       "                          Low spender   Frequent customer       5   \n",
       "                                        Non-frequent customer   5   \n",
       "                                        Regular customer        5   \n",
       "\n",
       "                                                              median_days_prior_order  \\\n",
       "                                                                                 mean   \n",
       "Age_Profile Parent_Flag   spending_flag frequency_flag                                  \n",
       "Middle-Aged no dependents High spender  Frequent customer                    5.758389   \n",
       "                                        Non-frequent customer               27.094629   \n",
       "                                        Regular customer                    13.581607   \n",
       "                          Low spender   Frequent customer                    6.250304   \n",
       "                                        Non-frequent customer               26.549669   \n",
       "                                        Regular customer                    14.289297   \n",
       "            parent        High spender  Frequent customer                    6.213974   \n",
       "                                        Non-frequent customer               26.200476   \n",
       "                                        Regular customer                    13.887995   \n",
       "                          Low spender   Frequent customer                    6.311327   \n",
       "                                        Non-frequent customer               26.487019   \n",
       "                                        Regular customer                    14.286726   \n",
       "Senior      no dependents High spender  Frequent customer                    5.953206   \n",
       "                                        Non-frequent customer               26.297215   \n",
       "                                        Regular customer                    13.792713   \n",
       "                          Low spender   Frequent customer                    6.293810   \n",
       "                                        Non-frequent customer               26.557405   \n",
       "                                        Regular customer                    14.150715   \n",
       "            parent        High spender  Frequent customer                    6.238441   \n",
       "                                        Non-frequent customer               26.359402   \n",
       "                                        Regular customer                    14.352087   \n",
       "                          Low spender   Frequent customer                    6.294423   \n",
       "                                        Non-frequent customer               26.564968   \n",
       "                                        Regular customer                    14.339785   \n",
       "Young       no dependents High spender  Frequent customer                    6.248811   \n",
       "                                        Non-frequent customer               27.315069   \n",
       "                                        Regular customer                    14.070148   \n",
       "                          Low spender   Frequent customer                    6.322961   \n",
       "                                        Non-frequent customer               26.429308   \n",
       "                                        Regular customer                    14.240640   \n",
       "            parent        High spender  Frequent customer                    6.119122   \n",
       "                                        Non-frequent customer               26.132042   \n",
       "                                        Regular customer                    13.980193   \n",
       "                          Low spender   Frequent customer                    6.318292   \n",
       "                                        Non-frequent customer               26.524134   \n",
       "                                        Regular customer                    14.258158   \n",
       "\n",
       "                                                                           \n",
       "                                                                max   min  \n",
       "Age_Profile Parent_Flag   spending_flag frequency_flag                     \n",
       "Middle-Aged no dependents High spender  Frequent customer      10.0   0.0  \n",
       "                                        Non-frequent customer  30.0  21.0  \n",
       "                                        Regular customer       20.0  10.5  \n",
       "                          Low spender   Frequent customer      10.0   0.0  \n",
       "                                        Non-frequent customer  30.0  20.5  \n",
       "                                        Regular customer       20.0  10.5  \n",
       "            parent        High spender  Frequent customer      10.0   0.0  \n",
       "                                        Non-frequent customer  30.0  21.0  \n",
       "                                        Regular customer       20.0  10.5  \n",
       "                          Low spender   Frequent customer      10.0   0.0  \n",
       "                                        Non-frequent customer  30.0  20.5  \n",
       "                                        Regular customer       20.0  10.5  \n",
       "Senior      no dependents High spender  Frequent customer      10.0   1.0  \n",
       "                                        Non-frequent customer  30.0  20.5  \n",
       "                                        Regular customer       20.0  10.5  \n",
       "                          Low spender   Frequent customer      10.0   0.0  \n",
       "                                        Non-frequent customer  30.0  20.5  \n",
       "                                        Regular customer       20.0  10.5  \n",
       "            parent        High spender  Frequent customer      10.0   0.0  \n",
       "                                        Non-frequent customer  30.0  21.0  \n",
       "                                        Regular customer       20.0  11.0  \n",
       "                          Low spender   Frequent customer      10.0   0.0  \n",
       "                                        Non-frequent customer  30.0  20.5  \n",
       "                                        Regular customer       20.0  10.5  \n",
       "Young       no dependents High spender  Frequent customer      10.0   0.0  \n",
       "                                        Non-frequent customer  30.0  20.5  \n",
       "                                        Regular customer       20.0  10.5  \n",
       "                          Low spender   Frequent customer      10.0   0.0  \n",
       "                                        Non-frequent customer  30.0  20.5  \n",
       "                                        Regular customer       20.0  10.5  \n",
       "            parent        High spender  Frequent customer      10.0   0.0  \n",
       "                                        Non-frequent customer  30.0  20.5  \n",
       "                                        Regular customer       20.0  10.5  \n",
       "                          Low spender   Frequent customer      10.0   0.0  \n",
       "                                        Non-frequent customer  30.0  20.5  \n",
       "                                        Regular customer       20.0  10.5  "
      ]
     },
     "execution_count": 67,
     "metadata": {},
     "output_type": "execute_result"
    }
   ],
   "source": [
    "frequency = full_merge.groupby(['Age_Profile', 'Parent_Flag', 'spending_flag', 'frequency_flag']).agg({'prices': ['mean', 'max', 'min'], 'Income': ['mean', 'max', 'min'], 'max_order': ['mean', 'max', 'min'], 'median_days_prior_order': ['mean', 'max', 'min']})\n",
    "frequency"
   ]
  },
  {
   "cell_type": "markdown",
   "id": "82bdd734",
   "metadata": {},
   "source": [
    "### Loyal / Regular / New users"
   ]
  },
  {
   "cell_type": "code",
   "execution_count": 68,
   "id": "ff00fc4c",
   "metadata": {},
   "outputs": [
    {
     "data": {
      "text/html": [
       "<div>\n",
       "<style scoped>\n",
       "    .dataframe tbody tr th:only-of-type {\n",
       "        vertical-align: middle;\n",
       "    }\n",
       "\n",
       "    .dataframe tbody tr th {\n",
       "        vertical-align: top;\n",
       "    }\n",
       "\n",
       "    .dataframe thead tr th {\n",
       "        text-align: left;\n",
       "    }\n",
       "\n",
       "    .dataframe thead tr:last-of-type th {\n",
       "        text-align: right;\n",
       "    }\n",
       "</style>\n",
       "<table border=\"1\" class=\"dataframe\">\n",
       "  <thead>\n",
       "    <tr>\n",
       "      <th></th>\n",
       "      <th></th>\n",
       "      <th></th>\n",
       "      <th></th>\n",
       "      <th></th>\n",
       "      <th colspan=\"3\" halign=\"left\">prices</th>\n",
       "      <th colspan=\"3\" halign=\"left\">Income</th>\n",
       "      <th colspan=\"3\" halign=\"left\">max_order</th>\n",
       "      <th colspan=\"3\" halign=\"left\">median_days_prior_order</th>\n",
       "    </tr>\n",
       "    <tr>\n",
       "      <th></th>\n",
       "      <th></th>\n",
       "      <th></th>\n",
       "      <th></th>\n",
       "      <th></th>\n",
       "      <th>mean</th>\n",
       "      <th>max</th>\n",
       "      <th>min</th>\n",
       "      <th>mean</th>\n",
       "      <th>max</th>\n",
       "      <th>min</th>\n",
       "      <th>mean</th>\n",
       "      <th>max</th>\n",
       "      <th>min</th>\n",
       "      <th>mean</th>\n",
       "      <th>max</th>\n",
       "      <th>min</th>\n",
       "    </tr>\n",
       "    <tr>\n",
       "      <th>Age_Profile</th>\n",
       "      <th>Parent_Flag</th>\n",
       "      <th>spending_flag</th>\n",
       "      <th>frequency_flag</th>\n",
       "      <th>loyalty_flag</th>\n",
       "      <th></th>\n",
       "      <th></th>\n",
       "      <th></th>\n",
       "      <th></th>\n",
       "      <th></th>\n",
       "      <th></th>\n",
       "      <th></th>\n",
       "      <th></th>\n",
       "      <th></th>\n",
       "      <th></th>\n",
       "      <th></th>\n",
       "      <th></th>\n",
       "    </tr>\n",
       "  </thead>\n",
       "  <tbody>\n",
       "    <tr>\n",
       "      <th rowspan=\"5\" valign=\"top\">Middle-Aged</th>\n",
       "      <th rowspan=\"5\" valign=\"top\">no dependents</th>\n",
       "      <th rowspan=\"5\" valign=\"top\">High spender</th>\n",
       "      <th rowspan=\"3\" valign=\"top\">Frequent customer</th>\n",
       "      <th>Loyal customer</th>\n",
       "      <td>8.231321</td>\n",
       "      <td>25.0</td>\n",
       "      <td>1.0</td>\n",
       "      <td>259757.466168</td>\n",
       "      <td>584097</td>\n",
       "      <td>59994</td>\n",
       "      <td>70.881674</td>\n",
       "      <td>99</td>\n",
       "      <td>41</td>\n",
       "      <td>4.564502</td>\n",
       "      <td>9.0</td>\n",
       "      <td>1.0</td>\n",
       "    </tr>\n",
       "    <tr>\n",
       "      <th>New customer</th>\n",
       "      <td>9.306851</td>\n",
       "      <td>24.9</td>\n",
       "      <td>1.0</td>\n",
       "      <td>166592.095922</td>\n",
       "      <td>365456</td>\n",
       "      <td>43518</td>\n",
       "      <td>7.960148</td>\n",
       "      <td>10</td>\n",
       "      <td>5</td>\n",
       "      <td>7.439064</td>\n",
       "      <td>10.0</td>\n",
       "      <td>0.0</td>\n",
       "    </tr>\n",
       "    <tr>\n",
       "      <th>Regular customer</th>\n",
       "      <td>8.403839</td>\n",
       "      <td>25.0</td>\n",
       "      <td>1.0</td>\n",
       "      <td>209020.385293</td>\n",
       "      <td>578251</td>\n",
       "      <td>60321</td>\n",
       "      <td>27.038899</td>\n",
       "      <td>40</td>\n",
       "      <td>11</td>\n",
       "      <td>7.141578</td>\n",
       "      <td>10.0</td>\n",
       "      <td>1.0</td>\n",
       "    </tr>\n",
       "    <tr>\n",
       "      <th rowspan=\"2\" valign=\"top\">Non-frequent customer</th>\n",
       "      <th>New customer</th>\n",
       "      <td>9.027848</td>\n",
       "      <td>25.0</td>\n",
       "      <td>1.0</td>\n",
       "      <td>172824.760721</td>\n",
       "      <td>531126</td>\n",
       "      <td>42263</td>\n",
       "      <td>7.127680</td>\n",
       "      <td>10</td>\n",
       "      <td>5</td>\n",
       "      <td>27.613913</td>\n",
       "      <td>30.0</td>\n",
       "      <td>21.0</td>\n",
       "    </tr>\n",
       "    <tr>\n",
       "      <th>Regular customer</th>\n",
       "      <td>8.180529</td>\n",
       "      <td>25.0</td>\n",
       "      <td>1.0</td>\n",
       "      <td>215151.459865</td>\n",
       "      <td>272152</td>\n",
       "      <td>63045</td>\n",
       "      <td>14.349587</td>\n",
       "      <td>17</td>\n",
       "      <td>11</td>\n",
       "      <td>25.495874</td>\n",
       "      <td>30.0</td>\n",
       "      <td>22.0</td>\n",
       "    </tr>\n",
       "    <tr>\n",
       "      <th>...</th>\n",
       "      <th>...</th>\n",
       "      <th>...</th>\n",
       "      <th>...</th>\n",
       "      <th>...</th>\n",
       "      <td>...</td>\n",
       "      <td>...</td>\n",
       "      <td>...</td>\n",
       "      <td>...</td>\n",
       "      <td>...</td>\n",
       "      <td>...</td>\n",
       "      <td>...</td>\n",
       "      <td>...</td>\n",
       "      <td>...</td>\n",
       "      <td>...</td>\n",
       "      <td>...</td>\n",
       "      <td>...</td>\n",
       "    </tr>\n",
       "    <tr>\n",
       "      <th rowspan=\"5\" valign=\"top\">Young</th>\n",
       "      <th rowspan=\"5\" valign=\"top\">parent</th>\n",
       "      <th rowspan=\"5\" valign=\"top\">Low spender</th>\n",
       "      <th rowspan=\"2\" valign=\"top\">Non-frequent customer</th>\n",
       "      <th>New customer</th>\n",
       "      <td>7.765423</td>\n",
       "      <td>25.0</td>\n",
       "      <td>1.0</td>\n",
       "      <td>67759.791960</td>\n",
       "      <td>101394</td>\n",
       "      <td>25911</td>\n",
       "      <td>7.281214</td>\n",
       "      <td>10</td>\n",
       "      <td>5</td>\n",
       "      <td>27.445971</td>\n",
       "      <td>30.0</td>\n",
       "      <td>20.5</td>\n",
       "    </tr>\n",
       "    <tr>\n",
       "      <th>Regular customer</th>\n",
       "      <td>7.746994</td>\n",
       "      <td>25.0</td>\n",
       "      <td>1.0</td>\n",
       "      <td>67574.412586</td>\n",
       "      <td>101321</td>\n",
       "      <td>25972</td>\n",
       "      <td>13.342333</td>\n",
       "      <td>25</td>\n",
       "      <td>11</td>\n",
       "      <td>24.522512</td>\n",
       "      <td>30.0</td>\n",
       "      <td>20.5</td>\n",
       "    </tr>\n",
       "    <tr>\n",
       "      <th rowspan=\"3\" valign=\"top\">Regular customer</th>\n",
       "      <th>Loyal customer</th>\n",
       "      <td>7.777081</td>\n",
       "      <td>21.6</td>\n",
       "      <td>1.0</td>\n",
       "      <td>72729.000000</td>\n",
       "      <td>72729</td>\n",
       "      <td>72729</td>\n",
       "      <td>44.000000</td>\n",
       "      <td>44</td>\n",
       "      <td>44</td>\n",
       "      <td>11.000000</td>\n",
       "      <td>11.0</td>\n",
       "      <td>11.0</td>\n",
       "    </tr>\n",
       "    <tr>\n",
       "      <th>New customer</th>\n",
       "      <td>7.790620</td>\n",
       "      <td>25.0</td>\n",
       "      <td>1.0</td>\n",
       "      <td>68437.547273</td>\n",
       "      <td>101353</td>\n",
       "      <td>26006</td>\n",
       "      <td>7.651291</td>\n",
       "      <td>10</td>\n",
       "      <td>5</td>\n",
       "      <td>15.176314</td>\n",
       "      <td>20.0</td>\n",
       "      <td>10.5</td>\n",
       "    </tr>\n",
       "    <tr>\n",
       "      <th>Regular customer</th>\n",
       "      <td>7.793452</td>\n",
       "      <td>25.0</td>\n",
       "      <td>1.0</td>\n",
       "      <td>69210.269624</td>\n",
       "      <td>101393</td>\n",
       "      <td>26137</td>\n",
       "      <td>19.265155</td>\n",
       "      <td>40</td>\n",
       "      <td>11</td>\n",
       "      <td>14.003551</td>\n",
       "      <td>20.0</td>\n",
       "      <td>10.5</td>\n",
       "    </tr>\n",
       "  </tbody>\n",
       "</table>\n",
       "<p>89 rows × 12 columns</p>\n",
       "</div>"
      ],
      "text/plain": [
       "                                                                                  prices  \\\n",
       "                                                                                    mean   \n",
       "Age_Profile Parent_Flag   spending_flag frequency_flag        loyalty_flag                 \n",
       "Middle-Aged no dependents High spender  Frequent customer     Loyal customer    8.231321   \n",
       "                                                              New customer      9.306851   \n",
       "                                                              Regular customer  8.403839   \n",
       "                                        Non-frequent customer New customer      9.027848   \n",
       "                                                              Regular customer  8.180529   \n",
       "...                                                                                  ...   \n",
       "Young       parent        Low spender   Non-frequent customer New customer      7.765423   \n",
       "                                                              Regular customer  7.746994   \n",
       "                                        Regular customer      Loyal customer    7.777081   \n",
       "                                                              New customer      7.790620   \n",
       "                                                              Regular customer  7.793452   \n",
       "\n",
       "                                                                                      \\\n",
       "                                                                                 max   \n",
       "Age_Profile Parent_Flag   spending_flag frequency_flag        loyalty_flag             \n",
       "Middle-Aged no dependents High spender  Frequent customer     Loyal customer    25.0   \n",
       "                                                              New customer      24.9   \n",
       "                                                              Regular customer  25.0   \n",
       "                                        Non-frequent customer New customer      25.0   \n",
       "                                                              Regular customer  25.0   \n",
       "...                                                                              ...   \n",
       "Young       parent        Low spender   Non-frequent customer New customer      25.0   \n",
       "                                                              Regular customer  25.0   \n",
       "                                        Regular customer      Loyal customer    21.6   \n",
       "                                                              New customer      25.0   \n",
       "                                                              Regular customer  25.0   \n",
       "\n",
       "                                                                                     \\\n",
       "                                                                                min   \n",
       "Age_Profile Parent_Flag   spending_flag frequency_flag        loyalty_flag            \n",
       "Middle-Aged no dependents High spender  Frequent customer     Loyal customer    1.0   \n",
       "                                                              New customer      1.0   \n",
       "                                                              Regular customer  1.0   \n",
       "                                        Non-frequent customer New customer      1.0   \n",
       "                                                              Regular customer  1.0   \n",
       "...                                                                             ...   \n",
       "Young       parent        Low spender   Non-frequent customer New customer      1.0   \n",
       "                                                              Regular customer  1.0   \n",
       "                                        Regular customer      Loyal customer    1.0   \n",
       "                                                              New customer      1.0   \n",
       "                                                              Regular customer  1.0   \n",
       "\n",
       "                                                                                       Income  \\\n",
       "                                                                                         mean   \n",
       "Age_Profile Parent_Flag   spending_flag frequency_flag        loyalty_flag                      \n",
       "Middle-Aged no dependents High spender  Frequent customer     Loyal customer    259757.466168   \n",
       "                                                              New customer      166592.095922   \n",
       "                                                              Regular customer  209020.385293   \n",
       "                                        Non-frequent customer New customer      172824.760721   \n",
       "                                                              Regular customer  215151.459865   \n",
       "...                                                                                       ...   \n",
       "Young       parent        Low spender   Non-frequent customer New customer       67759.791960   \n",
       "                                                              Regular customer   67574.412586   \n",
       "                                        Regular customer      Loyal customer     72729.000000   \n",
       "                                                              New customer       68437.547273   \n",
       "                                                              Regular customer   69210.269624   \n",
       "\n",
       "                                                                                        \\\n",
       "                                                                                   max   \n",
       "Age_Profile Parent_Flag   spending_flag frequency_flag        loyalty_flag               \n",
       "Middle-Aged no dependents High spender  Frequent customer     Loyal customer    584097   \n",
       "                                                              New customer      365456   \n",
       "                                                              Regular customer  578251   \n",
       "                                        Non-frequent customer New customer      531126   \n",
       "                                                              Regular customer  272152   \n",
       "...                                                                                ...   \n",
       "Young       parent        Low spender   Non-frequent customer New customer      101394   \n",
       "                                                              Regular customer  101321   \n",
       "                                        Regular customer      Loyal customer     72729   \n",
       "                                                              New customer      101353   \n",
       "                                                              Regular customer  101393   \n",
       "\n",
       "                                                                                       \\\n",
       "                                                                                  min   \n",
       "Age_Profile Parent_Flag   spending_flag frequency_flag        loyalty_flag              \n",
       "Middle-Aged no dependents High spender  Frequent customer     Loyal customer    59994   \n",
       "                                                              New customer      43518   \n",
       "                                                              Regular customer  60321   \n",
       "                                        Non-frequent customer New customer      42263   \n",
       "                                                              Regular customer  63045   \n",
       "...                                                                               ...   \n",
       "Young       parent        Low spender   Non-frequent customer New customer      25911   \n",
       "                                                              Regular customer  25972   \n",
       "                                        Regular customer      Loyal customer    72729   \n",
       "                                                              New customer      26006   \n",
       "                                                              Regular customer  26137   \n",
       "\n",
       "                                                                                max_order  \\\n",
       "                                                                                     mean   \n",
       "Age_Profile Parent_Flag   spending_flag frequency_flag        loyalty_flag                  \n",
       "Middle-Aged no dependents High spender  Frequent customer     Loyal customer    70.881674   \n",
       "                                                              New customer       7.960148   \n",
       "                                                              Regular customer  27.038899   \n",
       "                                        Non-frequent customer New customer       7.127680   \n",
       "                                                              Regular customer  14.349587   \n",
       "...                                                                                   ...   \n",
       "Young       parent        Low spender   Non-frequent customer New customer       7.281214   \n",
       "                                                              Regular customer  13.342333   \n",
       "                                        Regular customer      Loyal customer    44.000000   \n",
       "                                                              New customer       7.651291   \n",
       "                                                              Regular customer  19.265155   \n",
       "\n",
       "                                                                                    \\\n",
       "                                                                               max   \n",
       "Age_Profile Parent_Flag   spending_flag frequency_flag        loyalty_flag           \n",
       "Middle-Aged no dependents High spender  Frequent customer     Loyal customer    99   \n",
       "                                                              New customer      10   \n",
       "                                                              Regular customer  40   \n",
       "                                        Non-frequent customer New customer      10   \n",
       "                                                              Regular customer  17   \n",
       "...                                                                             ..   \n",
       "Young       parent        Low spender   Non-frequent customer New customer      10   \n",
       "                                                              Regular customer  25   \n",
       "                                        Regular customer      Loyal customer    44   \n",
       "                                                              New customer      10   \n",
       "                                                              Regular customer  40   \n",
       "\n",
       "                                                                                    \\\n",
       "                                                                               min   \n",
       "Age_Profile Parent_Flag   spending_flag frequency_flag        loyalty_flag           \n",
       "Middle-Aged no dependents High spender  Frequent customer     Loyal customer    41   \n",
       "                                                              New customer       5   \n",
       "                                                              Regular customer  11   \n",
       "                                        Non-frequent customer New customer       5   \n",
       "                                                              Regular customer  11   \n",
       "...                                                                             ..   \n",
       "Young       parent        Low spender   Non-frequent customer New customer       5   \n",
       "                                                              Regular customer  11   \n",
       "                                        Regular customer      Loyal customer    44   \n",
       "                                                              New customer       5   \n",
       "                                                              Regular customer  11   \n",
       "\n",
       "                                                                               median_days_prior_order  \\\n",
       "                                                                                                  mean   \n",
       "Age_Profile Parent_Flag   spending_flag frequency_flag        loyalty_flag                               \n",
       "Middle-Aged no dependents High spender  Frequent customer     Loyal customer                  4.564502   \n",
       "                                                              New customer                    7.439064   \n",
       "                                                              Regular customer                7.141578   \n",
       "                                        Non-frequent customer New customer                   27.613913   \n",
       "                                                              Regular customer               25.495874   \n",
       "...                                                                                                ...   \n",
       "Young       parent        Low spender   Non-frequent customer New customer                   27.445971   \n",
       "                                                              Regular customer               24.522512   \n",
       "                                        Regular customer      Loyal customer                 11.000000   \n",
       "                                                              New customer                   15.176314   \n",
       "                                                              Regular customer               14.003551   \n",
       "\n",
       "                                                                                      \\\n",
       "                                                                                 max   \n",
       "Age_Profile Parent_Flag   spending_flag frequency_flag        loyalty_flag             \n",
       "Middle-Aged no dependents High spender  Frequent customer     Loyal customer     9.0   \n",
       "                                                              New customer      10.0   \n",
       "                                                              Regular customer  10.0   \n",
       "                                        Non-frequent customer New customer      30.0   \n",
       "                                                              Regular customer  30.0   \n",
       "...                                                                              ...   \n",
       "Young       parent        Low spender   Non-frequent customer New customer      30.0   \n",
       "                                                              Regular customer  30.0   \n",
       "                                        Regular customer      Loyal customer    11.0   \n",
       "                                                              New customer      20.0   \n",
       "                                                              Regular customer  20.0   \n",
       "\n",
       "                                                                                      \n",
       "                                                                                 min  \n",
       "Age_Profile Parent_Flag   spending_flag frequency_flag        loyalty_flag            \n",
       "Middle-Aged no dependents High spender  Frequent customer     Loyal customer     1.0  \n",
       "                                                              New customer       0.0  \n",
       "                                                              Regular customer   1.0  \n",
       "                                        Non-frequent customer New customer      21.0  \n",
       "                                                              Regular customer  22.0  \n",
       "...                                                                              ...  \n",
       "Young       parent        Low spender   Non-frequent customer New customer      20.5  \n",
       "                                                              Regular customer  20.5  \n",
       "                                        Regular customer      Loyal customer    11.0  \n",
       "                                                              New customer      10.5  \n",
       "                                                              Regular customer  10.5  \n",
       "\n",
       "[89 rows x 12 columns]"
      ]
     },
     "execution_count": 68,
     "metadata": {},
     "output_type": "execute_result"
    }
   ],
   "source": [
    "loyalty = full_merge.groupby(['Age_Profile', 'Parent_Flag', 'spending_flag', 'frequency_flag', 'loyalty_flag']).agg({'prices': ['mean', 'max', 'min'], 'Income': ['mean', 'max', 'min'], 'max_order': ['mean', 'max', 'min'], 'median_days_prior_order': ['mean', 'max', 'min']})\n",
    "loyalty"
   ]
  },
  {
   "cell_type": "markdown",
   "id": "1444ea2c",
   "metadata": {},
   "source": [
    "# 8. Regions and departments"
   ]
  },
  {
   "cell_type": "markdown",
   "id": "e7ee0f97",
   "metadata": {},
   "source": [
    "### Produce is the most popular department regardless of region. \n",
    "### Bananas in the produce department (id #4) are the most popular among all customer profiles. \n",
    "### All users in Region 3 purchase the most produce."
   ]
  },
  {
   "cell_type": "markdown",
   "id": "40b8b3e2",
   "metadata": {},
   "source": [
    "#### Subset df_5 for Region, department_id, product_name, Family Status, loyalty_flag, spending_flag, department"
   ]
  },
  {
   "cell_type": "code",
   "execution_count": 10,
   "id": "d01173c7",
   "metadata": {},
   "outputs": [],
   "source": [
    "df_5 = full_merge[['Region', 'department_id', 'product_name', 'Family Status', 'loyalty_flag', 'spending_flag', 'department']]"
   ]
  },
  {
   "cell_type": "code",
   "execution_count": null,
   "id": "40a9fb93",
   "metadata": {},
   "outputs": [],
   "source": [
    "# counts of department IDs by to determine most popular by region\n",
    "\n",
    "region_tab = pd.crosstab(full_merge['Region'], full_merge['department_id'], dropna = False)"
   ]
  },
  {
   "cell_type": "code",
   "execution_count": null,
   "id": "ae22eec0",
   "metadata": {},
   "outputs": [],
   "source": [
    "region_tab.to_clipboard()"
   ]
  },
  {
   "cell_type": "code",
   "execution_count": 70,
   "id": "6b5bd1dc",
   "metadata": {},
   "outputs": [
    {
     "data": {
      "text/plain": [
       "Region    product_name                                                                    \n",
       "Region 3  Banana                                                                              151756\n",
       "          Bag of Organic Bananas                                                              121171\n",
       "Region 4  Banana                                                                              115748\n",
       "Region 2  Banana                                                                              105800\n",
       "Region 4  Bag of Organic Bananas                                                               94550\n",
       "                                                                                               ...  \n",
       "          Fast Hand Absorb                                                                         1\n",
       "Region 1  Original Disney Princess Spaghetti Os Cool Shapes Pasta in Tomato & Cheese Sauce         1\n",
       "          Original Dishwashing Liquid                                                              1\n",
       "Region 4  Fast Fix Thin Lips                                                                       1\n",
       "Region 2  Gluten Free Whole Grain Southwest Breaded Chicken Tenders                                1\n",
       "Length: 185475, dtype: int64"
      ]
     },
     "execution_count": 70,
     "metadata": {},
     "output_type": "execute_result"
    }
   ],
   "source": [
    "# counts of product names to determine most popular by region\n",
    "\n",
    "df_5[['Region', 'product_name']].value_counts()"
   ]
  },
  {
   "cell_type": "code",
   "execution_count": 71,
   "id": "510a519c",
   "metadata": {},
   "outputs": [
    {
     "data": {
      "text/plain": [
       "Family Status                     product_name          \n",
       "married                           Banana                    317498\n",
       "                                  Bag of Organic Bananas    257309\n",
       "                                  Organic Strawberries      179661\n",
       "                                  Organic Baby Spinach      162724\n",
       "                                  Organic Hass Avocado      145250\n",
       "                                                             ...  \n",
       "                                  Cocktail Shrimp                1\n",
       "living with parents and siblings  Dry Split Green Peas           1\n",
       "divorced/widowed                  Lemon Tart                     1\n",
       "living with parents and siblings  Dry Sherry                     1\n",
       "                                  Spinach Naan                   1\n",
       "Length: 167479, dtype: int64"
      ]
     },
     "execution_count": 71,
     "metadata": {},
     "output_type": "execute_result"
    }
   ],
   "source": [
    "# counts of product names to determine most popular by family status\n",
    "\n",
    "df_5[['Family Status', 'product_name']].value_counts()"
   ]
  },
  {
   "cell_type": "code",
   "execution_count": 72,
   "id": "2b13c279",
   "metadata": {},
   "outputs": [
    {
     "data": {
      "text/plain": [
       "loyalty_flag      product_name                                  \n",
       "Regular customer  Banana                                            233137\n",
       "                  Bag of Organic Bananas                            176251\n",
       "Loyal customer    Banana                                            155260\n",
       "                  Bag of Organic Bananas                            144304\n",
       "Regular customer  Organic Strawberries                              120510\n",
       "                                                                     ...  \n",
       "Loyal customer    Honey Roasted Mixed Nuts                               1\n",
       "Regular customer  Italian Style Wrap                                     1\n",
       "New customer      Organic Herbalozenge Tropical Soother Lozenges         1\n",
       "                  Simply Sleep Nighttime Sleep Aid                       1\n",
       "                  Raspberry Goji Paleo Prints                            1\n",
       "Length: 140028, dtype: int64"
      ]
     },
     "execution_count": 72,
     "metadata": {},
     "output_type": "execute_result"
    }
   ],
   "source": [
    "# count of product names to determine most popular by loyalty status\n",
    "\n",
    "df_5[['loyalty_flag', 'product_name']].value_counts()"
   ]
  },
  {
   "cell_type": "code",
   "execution_count": 73,
   "id": "73a01043",
   "metadata": {},
   "outputs": [
    {
     "data": {
      "text/plain": [
       "spending_flag  product_name                         \n",
       "Low spender    Banana                                   444471\n",
       "               Bag of Organic Bananas                   361301\n",
       "               Organic Strawberries                     254245\n",
       "               Organic Baby Spinach                     230221\n",
       "               Organic Hass Avocado                     205757\n",
       "                                                         ...  \n",
       "High spender   Three Grain Bread                             1\n",
       "               Three Sisters Chili                           1\n",
       "               Throat Shield Rapid Relief Herbal Tea         1\n",
       "Low spender    High Protein Chocolate Liquid                 1\n",
       "High spender   #2 Coffee Filters                             1\n",
       "Length: 74053, dtype: int64"
      ]
     },
     "execution_count": 73,
     "metadata": {},
     "output_type": "execute_result"
    }
   ],
   "source": [
    "# count of product names to determine most popular by spending status\n",
    "\n",
    "df_5[['spending_flag', 'product_name']].value_counts()"
   ]
  },
  {
   "cell_type": "code",
   "execution_count": 11,
   "id": "0ed51907",
   "metadata": {},
   "outputs": [
    {
     "data": {
      "image/png": "[encoded data removed]",
      "text/plain": [
       "<Figure size 1110.88x500 with 1 Axes>"
      ]
     },
     "metadata": {},
     "output_type": "display_data"
    }
   ],
   "source": [
    "# bar chart showing counts for department IDs for all users by region\n",
    "\n",
    "r_dept_bar = sns.catplot(data=df_5, kind=\"count\", x=\"department\", hue= \"Region\", aspect = 2)\n",
    "plt.xticks(rotation = 20, fontsize=7)\n",
    "plt.xlabel('Department')\n",
    "plt.ylabel('Count of Orders')\n",
    "plt.title('Department Orders by Region Bar Chart')\n",
    "plt.tight_layout()\n",
    "plt.show()"
   ]
  },
  {
   "cell_type": "code",
   "execution_count": 75,
   "id": "c2ba2552",
   "metadata": {},
   "outputs": [
    {
     "data": {
      "text/plain": [
       "Text(0.5, 1.0, 'Customer Loyalty Status by Region Bar Chart')"
      ]
     },
     "execution_count": 75,
     "metadata": {},
     "output_type": "execute_result"
    },
    {
     "data": {
      "image/png": "[encoded data removed]",
      "text/plain": [
       "<Figure size 1173.12x500 with 1 Axes>"
      ]
     },
     "metadata": {},
     "output_type": "display_data"
    }
   ],
   "source": [
    "# bar chart showing counts of loyalty flags for all users by region\n",
    "\n",
    "r_loyal_bar = sns.catplot(data=df_5, kind = 'count', x=\"Region\", hue=\"loyalty_flag\", aspect = 2)\n",
    "plt.xlabel('Region')\n",
    "plt.ylabel('Count of Users')\n",
    "plt.title('Customer Loyalty Status by Region Bar Chart')"
   ]
  },
  {
   "cell_type": "markdown",
   "id": "ce6f97e8",
   "metadata": {},
   "source": [
    "# 10. Export data and visuals"
   ]
  },
  {
   "cell_type": "code",
   "execution_count": 21,
   "id": "0e3290d8",
   "metadata": {},
   "outputs": [],
   "source": [
    "# final data frame\n",
    "\n",
    "full_merge.to_pickle(os.path.join(path, '02 Data', 'Prepared Data', 'full_merge.pkl'))"
   ]
  },
  {
   "cell_type": "code",
   "execution_count": 18,
   "id": "f7ee4ec9",
   "metadata": {},
   "outputs": [],
   "source": [
    "r_dept_bar.figure.savefig(os.path.join(path, '04 Analysis','Visualizations', 'r_dept_bar.png'))"
   ]
  },
  {
   "cell_type": "code",
   "execution_count": 19,
   "id": "5d597230",
   "metadata": {},
   "outputs": [],
   "source": [
    "dept_age_bar.figure.savefig(os.path.join(path, '04 Analysis','Visualizations', 'dept_age_bar.png'))"
   ]
  },
  {
   "cell_type": "code",
   "execution_count": 20,
   "id": "9ee6deee",
   "metadata": {},
   "outputs": [],
   "source": [
    "dept_parent_bar.figure.savefig(os.path.join(path, '04 Analysis','Visualizations', 'dept_parent_bar.png'))"
   ]
  },
  {
   "cell_type": "code",
   "execution_count": null,
   "id": "f4717272",
   "metadata": {},
   "outputs": [],
   "source": [
    "time_age_bar.figure.savefig(os.path.join(path, '04 Analysis','Visualizations', 'time_age_bar.png'))"
   ]
  },
  {
   "cell_type": "code",
   "execution_count": null,
   "id": "1fe510a5",
   "metadata": {},
   "outputs": [],
   "source": [
    "time_parent_bar.figure.savefig(os.path.join(path, '04 Analysis','Visualizations', 'time_parent_bar.png'))"
   ]
  },
  {
   "cell_type": "code",
   "execution_count": null,
   "id": "39424397",
   "metadata": {},
   "outputs": [],
   "source": [
    "time_yn_bar.figure.savefig(os.path.join(path, '04 Analysis','Visualizations', 'time_yn_bar.png'))"
   ]
  },
  {
   "cell_type": "code",
   "execution_count": null,
   "id": "2964fc4e",
   "metadata": {},
   "outputs": [],
   "source": [
    "DOW_parent_bar.figure.savefig(os.path.join(path, '04 Analysis','Visualizations', 'DOW_parent_bar.png'))"
   ]
  },
  {
   "cell_type": "code",
   "execution_count": null,
   "id": "74188f8f",
   "metadata": {},
   "outputs": [],
   "source": [
    "DOW_age_bar.figure.savefig(os.path.join(path, '04 Analysis','Visualizations', 'DOW_age_bar.png'))"
   ]
  },
  {
   "cell_type": "code",
   "execution_count": null,
   "id": "094d2457",
   "metadata": {},
   "outputs": [],
   "source": [
    "inc_allage_box.figure.savefig(os.path.join(path, '04 Analysis','Visualizations', 'inc_allage_box.png'))"
   ]
  },
  {
   "cell_type": "code",
   "execution_count": null,
   "id": "b4281361",
   "metadata": {},
   "outputs": [],
   "source": [
    "r_loyal_bar.figure.savefig(os.path.join(path, '04 Analysis','Visualizations', 'r_loyal_bar.png'))"
   ]
  },
  {
   "cell_type": "code",
   "execution_count": 21,
   "id": "8939ab26",
   "metadata": {},
   "outputs": [],
   "source": [
    "dept_loyal_bar.figure.savefig(os.path.join(path, '04 Analysis','Visualizations', 'dept_loyal_bar.png'))"
   ]
  },
  {
   "cell_type": "code",
   "execution_count": 22,
   "id": "ce91d9ec",
   "metadata": {},
   "outputs": [],
   "source": [
    "dept_fam_bar.figure.savefig(os.path.join(path, '04 Analysis','Visualizations', 'dept_fam_bar.png'))"
   ]
  },
  {
   "cell_type": "code",
   "execution_count": null,
   "id": "3c589bae",
   "metadata": {},
   "outputs": [],
   "source": [
    "parent_age_bar.figure.savefig(os.path.join(path, '04 Analysis','Visualizations', 'parent_age_bar.png'))"
   ]
  },
  {
   "cell_type": "code",
   "execution_count": 6,
   "id": "0720eefe",
   "metadata": {},
   "outputs": [],
   "source": [
    "dept_bar.figure.savefig(os.path.join(path, '04 Analysis','Visualizations', 'dept_bar.png'))"
   ]
  },
  {
   "cell_type": "code",
   "execution_count": null,
   "id": "b0ae3834",
   "metadata": {},
   "outputs": [],
   "source": [
    "loyal_bar.figure.savefig(os.path.join(path, '04 Analysis','Visualizations', 'loyal_bar.png'))"
   ]
  }
 ],
 "metadata": {
  "kernelspec": {
   "display_name": "Python 3 (ipykernel)",
   "language": "python",
   "name": "python3"
  },
  "language_info": {
   "codemirror_mode": {
    "name": "ipython",
    "version": 3
   },
   "file_extension": ".py",
   "mimetype": "text/x-python",
   "name": "python",
   "nbconvert_exporter": "python",
   "pygments_lexer": "ipython3",
   "version": "3.11.3"
  }
 },
 "nbformat": 4,
 "nbformat_minor": 5
}
