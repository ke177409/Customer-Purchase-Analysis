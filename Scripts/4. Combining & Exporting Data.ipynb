{
 "cells": [
  {
   "cell_type": "markdown",
   "id": "14dc574f",
   "metadata": {},
   "source": [
    "### This script contains the following points:\n",
    "\n",
    "#### 1. Importing libraries\n",
    "#### 2. Importing original order data, cleaned order data, and cleaned product data\n",
    "#### 3. Check shape of original order and cleaned order data\n",
    "#### 4. Merging original and cleaned order data frames\n",
    "#### 5. Import products checked data\n",
    "#### 6. Combine orders_products_combined with products data set\n",
    "#### 7. Exporting df_merged_ord_prod to pkl"
   ]
  },
  {
   "cell_type": "markdown",
   "id": "65481041",
   "metadata": {},
   "source": [
    "# 1. Importing libraries"
   ]
  },
  {
   "cell_type": "code",
   "execution_count": 8,
   "id": "6ac0b280",
   "metadata": {},
   "outputs": [],
   "source": [
    "# Import libraries\n",
    "import pandas as pd\n",
    "import numpy as np\n",
    "import os"
   ]
  },
  {
   "cell_type": "markdown",
   "id": "93fc2f29",
   "metadata": {},
   "source": [
    "# 2. Importing original order data, cleaned order data, and cleaned product data"
   ]
  },
  {
   "cell_type": "code",
   "execution_count": 9,
   "id": "7cc4006e",
   "metadata": {},
   "outputs": [],
   "source": [
    "# importing order_products_prior from original data\n",
    "df_ords_prior = pd.read_csv(r'C:\\Users\\kevan\\Documents\\Career Foundry\\Data Immersion\\Achievement 4\\Instacart Basket Analysis\\02 Data\\Original Data\\order_products_prior.csv', index_col = False)"
   ]
  },
  {
   "cell_type": "code",
   "execution_count": 10,
   "id": "fccbf89b",
   "metadata": {},
   "outputs": [],
   "source": [
    "# importing orders from prepared data\n",
    "# index_col = [0] to remove default index column in df\n",
    "df_ords_clean = pd.read_csv(r'C:\\Users\\kevan\\Documents\\Career Foundry\\Data Immersion\\Achievement 4\\Instacart Basket Analysis\\02 Data\\Prepared Data\\orders_checked.csv', index_col = [0])"
   ]
  },
  {
   "cell_type": "code",
   "execution_count": 11,
   "id": "67996a9d",
   "metadata": {},
   "outputs": [],
   "source": [
    "# importing products from prepared data\n",
    "df_prods_clean = pd.read_csv(r'C:\\Users\\kevan\\Documents\\Career Foundry\\Data Immersion\\Achievement 4\\Instacart Basket Analysis\\02 Data\\Prepared Data\\products_checked.csv', index_col = False)"
   ]
  },
  {
   "cell_type": "code",
   "execution_count": 28,
   "id": "96af3fd1",
   "metadata": {},
   "outputs": [],
   "source": [
    "# assigning main project path to variable 'path'\n",
    "path = r'C:\\Users\\kevan\\Documents\\Career Foundry\\Data Immersion\\Achievement 4\\Instacart Basket Analysis'"
   ]
  },
  {
   "cell_type": "markdown",
   "id": "98751e2e",
   "metadata": {},
   "source": [
    "# 3. Check shape of original order and cleaned order data"
   ]
  },
  {
   "cell_type": "code",
   "execution_count": 12,
   "id": "6ed0f9a2",
   "metadata": {},
   "outputs": [
    {
     "data": {
      "text/plain": [
       "(32434489, 4)"
      ]
     },
     "execution_count": 12,
     "metadata": {},
     "output_type": "execute_result"
    }
   ],
   "source": [
    "# checking dimensions of imported dataframe\n",
    "df_ords_prior.shape"
   ]
  },
  {
   "cell_type": "code",
   "execution_count": 13,
   "id": "d195b024",
   "metadata": {},
   "outputs": [
    {
     "data": {
      "text/html": [
       "<div>\n",
       "<style scoped>\n",
       "    .dataframe tbody tr th:only-of-type {\n",
       "        vertical-align: middle;\n",
       "    }\n",
       "\n",
       "    .dataframe tbody tr th {\n",
       "        vertical-align: top;\n",
       "    }\n",
       "\n",
       "    .dataframe thead th {\n",
       "        text-align: right;\n",
       "    }\n",
       "</style>\n",
       "<table border=\"1\" class=\"dataframe\">\n",
       "  <thead>\n",
       "    <tr style=\"text-align: right;\">\n",
       "      <th></th>\n",
       "      <th>order_id</th>\n",
       "      <th>product_id</th>\n",
       "      <th>add_to_cart_order</th>\n",
       "      <th>reordered</th>\n",
       "    </tr>\n",
       "  </thead>\n",
       "  <tbody>\n",
       "    <tr>\n",
       "      <th>0</th>\n",
       "      <td>2</td>\n",
       "      <td>33120</td>\n",
       "      <td>1</td>\n",
       "      <td>1</td>\n",
       "    </tr>\n",
       "  </tbody>\n",
       "</table>\n",
       "</div>"
      ],
      "text/plain": [
       "   order_id  product_id  add_to_cart_order  reordered\n",
       "0         2       33120                  1          1"
      ]
     },
     "execution_count": 13,
     "metadata": {},
     "output_type": "execute_result"
    }
   ],
   "source": [
    "# check the output to determine common column names\n",
    "df_ords_prior.head(1)"
   ]
  },
  {
   "cell_type": "code",
   "execution_count": 14,
   "id": "cbf77e7a",
   "metadata": {},
   "outputs": [
    {
     "data": {
      "text/plain": [
       "(3421083, 6)"
      ]
     },
     "execution_count": 14,
     "metadata": {},
     "output_type": "execute_result"
    }
   ],
   "source": [
    "# checking shape of cleaned orders data frame\n",
    "df_ords_clean.shape"
   ]
  },
  {
   "cell_type": "code",
   "execution_count": 15,
   "id": "4e5d2fd1",
   "metadata": {},
   "outputs": [
    {
     "data": {
      "text/html": [
       "<div>\n",
       "<style scoped>\n",
       "    .dataframe tbody tr th:only-of-type {\n",
       "        vertical-align: middle;\n",
       "    }\n",
       "\n",
       "    .dataframe tbody tr th {\n",
       "        vertical-align: top;\n",
       "    }\n",
       "\n",
       "    .dataframe thead th {\n",
       "        text-align: right;\n",
       "    }\n",
       "</style>\n",
       "<table border=\"1\" class=\"dataframe\">\n",
       "  <thead>\n",
       "    <tr style=\"text-align: right;\">\n",
       "      <th></th>\n",
       "      <th>order_id</th>\n",
       "      <th>user_id</th>\n",
       "      <th>order_number</th>\n",
       "      <th>orders_day_of_week</th>\n",
       "      <th>order_hour_of_day</th>\n",
       "      <th>days_since_prior_order</th>\n",
       "    </tr>\n",
       "  </thead>\n",
       "  <tbody>\n",
       "    <tr>\n",
       "      <th>0</th>\n",
       "      <td>2539329</td>\n",
       "      <td>1</td>\n",
       "      <td>1</td>\n",
       "      <td>2</td>\n",
       "      <td>8</td>\n",
       "      <td>NaN</td>\n",
       "    </tr>\n",
       "  </tbody>\n",
       "</table>\n",
       "</div>"
      ],
      "text/plain": [
       "   order_id  user_id  order_number  orders_day_of_week  order_hour_of_day  \\\n",
       "0   2539329        1             1                   2                  8   \n",
       "\n",
       "   days_since_prior_order  \n",
       "0                     NaN  "
      ]
     },
     "execution_count": 15,
     "metadata": {},
     "output_type": "execute_result"
    }
   ],
   "source": [
    "# check the output to determine common column names\n",
    "df_ords_clean.head(1)"
   ]
  },
  {
   "cell_type": "markdown",
   "id": "87e1293e",
   "metadata": {},
   "source": [
    "# 4. Merging original and cleaned order data frames"
   ]
  },
  {
   "cell_type": "code",
   "execution_count": 16,
   "id": "558902d0",
   "metadata": {},
   "outputs": [
    {
     "data": {
      "text/html": [
       "<div>\n",
       "<style scoped>\n",
       "    .dataframe tbody tr th:only-of-type {\n",
       "        vertical-align: middle;\n",
       "    }\n",
       "\n",
       "    .dataframe tbody tr th {\n",
       "        vertical-align: top;\n",
       "    }\n",
       "\n",
       "    .dataframe thead th {\n",
       "        text-align: right;\n",
       "    }\n",
       "</style>\n",
       "<table border=\"1\" class=\"dataframe\">\n",
       "  <thead>\n",
       "    <tr style=\"text-align: right;\">\n",
       "      <th></th>\n",
       "      <th>order_id</th>\n",
       "      <th>user_id</th>\n",
       "      <th>order_number</th>\n",
       "      <th>orders_day_of_week</th>\n",
       "      <th>order_hour_of_day</th>\n",
       "      <th>days_since_prior_order</th>\n",
       "      <th>product_id</th>\n",
       "      <th>add_to_cart_order</th>\n",
       "      <th>reordered</th>\n",
       "      <th>_merge</th>\n",
       "    </tr>\n",
       "  </thead>\n",
       "  <tbody>\n",
       "    <tr>\n",
       "      <th>0</th>\n",
       "      <td>2539329</td>\n",
       "      <td>1</td>\n",
       "      <td>1</td>\n",
       "      <td>2</td>\n",
       "      <td>8</td>\n",
       "      <td>NaN</td>\n",
       "      <td>196</td>\n",
       "      <td>1</td>\n",
       "      <td>0</td>\n",
       "      <td>both</td>\n",
       "    </tr>\n",
       "    <tr>\n",
       "      <th>1</th>\n",
       "      <td>2539329</td>\n",
       "      <td>1</td>\n",
       "      <td>1</td>\n",
       "      <td>2</td>\n",
       "      <td>8</td>\n",
       "      <td>NaN</td>\n",
       "      <td>14084</td>\n",
       "      <td>2</td>\n",
       "      <td>0</td>\n",
       "      <td>both</td>\n",
       "    </tr>\n",
       "    <tr>\n",
       "      <th>2</th>\n",
       "      <td>2539329</td>\n",
       "      <td>1</td>\n",
       "      <td>1</td>\n",
       "      <td>2</td>\n",
       "      <td>8</td>\n",
       "      <td>NaN</td>\n",
       "      <td>12427</td>\n",
       "      <td>3</td>\n",
       "      <td>0</td>\n",
       "      <td>both</td>\n",
       "    </tr>\n",
       "    <tr>\n",
       "      <th>3</th>\n",
       "      <td>2539329</td>\n",
       "      <td>1</td>\n",
       "      <td>1</td>\n",
       "      <td>2</td>\n",
       "      <td>8</td>\n",
       "      <td>NaN</td>\n",
       "      <td>26088</td>\n",
       "      <td>4</td>\n",
       "      <td>0</td>\n",
       "      <td>both</td>\n",
       "    </tr>\n",
       "    <tr>\n",
       "      <th>4</th>\n",
       "      <td>2539329</td>\n",
       "      <td>1</td>\n",
       "      <td>1</td>\n",
       "      <td>2</td>\n",
       "      <td>8</td>\n",
       "      <td>NaN</td>\n",
       "      <td>26405</td>\n",
       "      <td>5</td>\n",
       "      <td>0</td>\n",
       "      <td>both</td>\n",
       "    </tr>\n",
       "    <tr>\n",
       "      <th>...</th>\n",
       "      <td>...</td>\n",
       "      <td>...</td>\n",
       "      <td>...</td>\n",
       "      <td>...</td>\n",
       "      <td>...</td>\n",
       "      <td>...</td>\n",
       "      <td>...</td>\n",
       "      <td>...</td>\n",
       "      <td>...</td>\n",
       "      <td>...</td>\n",
       "    </tr>\n",
       "    <tr>\n",
       "      <th>32434484</th>\n",
       "      <td>2977660</td>\n",
       "      <td>206209</td>\n",
       "      <td>13</td>\n",
       "      <td>1</td>\n",
       "      <td>12</td>\n",
       "      <td>7.0</td>\n",
       "      <td>14197</td>\n",
       "      <td>5</td>\n",
       "      <td>1</td>\n",
       "      <td>both</td>\n",
       "    </tr>\n",
       "    <tr>\n",
       "      <th>32434485</th>\n",
       "      <td>2977660</td>\n",
       "      <td>206209</td>\n",
       "      <td>13</td>\n",
       "      <td>1</td>\n",
       "      <td>12</td>\n",
       "      <td>7.0</td>\n",
       "      <td>38730</td>\n",
       "      <td>6</td>\n",
       "      <td>0</td>\n",
       "      <td>both</td>\n",
       "    </tr>\n",
       "    <tr>\n",
       "      <th>32434486</th>\n",
       "      <td>2977660</td>\n",
       "      <td>206209</td>\n",
       "      <td>13</td>\n",
       "      <td>1</td>\n",
       "      <td>12</td>\n",
       "      <td>7.0</td>\n",
       "      <td>31477</td>\n",
       "      <td>7</td>\n",
       "      <td>0</td>\n",
       "      <td>both</td>\n",
       "    </tr>\n",
       "    <tr>\n",
       "      <th>32434487</th>\n",
       "      <td>2977660</td>\n",
       "      <td>206209</td>\n",
       "      <td>13</td>\n",
       "      <td>1</td>\n",
       "      <td>12</td>\n",
       "      <td>7.0</td>\n",
       "      <td>6567</td>\n",
       "      <td>8</td>\n",
       "      <td>0</td>\n",
       "      <td>both</td>\n",
       "    </tr>\n",
       "    <tr>\n",
       "      <th>32434488</th>\n",
       "      <td>2977660</td>\n",
       "      <td>206209</td>\n",
       "      <td>13</td>\n",
       "      <td>1</td>\n",
       "      <td>12</td>\n",
       "      <td>7.0</td>\n",
       "      <td>22920</td>\n",
       "      <td>9</td>\n",
       "      <td>0</td>\n",
       "      <td>both</td>\n",
       "    </tr>\n",
       "  </tbody>\n",
       "</table>\n",
       "<p>32434489 rows × 10 columns</p>\n",
       "</div>"
      ],
      "text/plain": [
       "          order_id  user_id  order_number  orders_day_of_week  \\\n",
       "0          2539329        1             1                   2   \n",
       "1          2539329        1             1                   2   \n",
       "2          2539329        1             1                   2   \n",
       "3          2539329        1             1                   2   \n",
       "4          2539329        1             1                   2   \n",
       "...            ...      ...           ...                 ...   \n",
       "32434484   2977660   206209            13                   1   \n",
       "32434485   2977660   206209            13                   1   \n",
       "32434486   2977660   206209            13                   1   \n",
       "32434487   2977660   206209            13                   1   \n",
       "32434488   2977660   206209            13                   1   \n",
       "\n",
       "          order_hour_of_day  days_since_prior_order  product_id  \\\n",
       "0                         8                     NaN         196   \n",
       "1                         8                     NaN       14084   \n",
       "2                         8                     NaN       12427   \n",
       "3                         8                     NaN       26088   \n",
       "4                         8                     NaN       26405   \n",
       "...                     ...                     ...         ...   \n",
       "32434484                 12                     7.0       14197   \n",
       "32434485                 12                     7.0       38730   \n",
       "32434486                 12                     7.0       31477   \n",
       "32434487                 12                     7.0        6567   \n",
       "32434488                 12                     7.0       22920   \n",
       "\n",
       "          add_to_cart_order  reordered _merge  \n",
       "0                         1          0   both  \n",
       "1                         2          0   both  \n",
       "2                         3          0   both  \n",
       "3                         4          0   both  \n",
       "4                         5          0   both  \n",
       "...                     ...        ...    ...  \n",
       "32434484                  5          1   both  \n",
       "32434485                  6          0   both  \n",
       "32434486                  7          0   both  \n",
       "32434487                  8          0   both  \n",
       "32434488                  9          0   both  \n",
       "\n",
       "[32434489 rows x 10 columns]"
      ]
     },
     "execution_count": 16,
     "metadata": {},
     "output_type": "execute_result"
    }
   ],
   "source": [
    "#type of join defaults to inner, so it doesn't need to be specified\n",
    "orders_products_combined = df_ords_clean.merge(df_ords_prior, on = ['order_id'], indicator = True)\n",
    "orders_products_combined"
   ]
  },
  {
   "cell_type": "code",
   "execution_count": 17,
   "id": "bf49d4a3",
   "metadata": {},
   "outputs": [
    {
     "data": {
      "text/plain": [
       "both          32434489\n",
       "left_only            0\n",
       "right_only           0\n",
       "Name: _merge, dtype: int64"
      ]
     },
     "execution_count": 17,
     "metadata": {},
     "output_type": "execute_result"
    }
   ],
   "source": [
    "# used to verify that all data merged\n",
    "orders_products_combined['_merge'].value_counts()"
   ]
  },
  {
   "cell_type": "code",
   "execution_count": 18,
   "id": "bfd751f9",
   "metadata": {},
   "outputs": [
    {
     "data": {
      "text/html": [
       "<div>\n",
       "<style scoped>\n",
       "    .dataframe tbody tr th:only-of-type {\n",
       "        vertical-align: middle;\n",
       "    }\n",
       "\n",
       "    .dataframe tbody tr th {\n",
       "        vertical-align: top;\n",
       "    }\n",
       "\n",
       "    .dataframe thead th {\n",
       "        text-align: right;\n",
       "    }\n",
       "</style>\n",
       "<table border=\"1\" class=\"dataframe\">\n",
       "  <thead>\n",
       "    <tr style=\"text-align: right;\">\n",
       "      <th></th>\n",
       "      <th>order_id</th>\n",
       "      <th>user_id</th>\n",
       "      <th>order_number</th>\n",
       "      <th>orders_day_of_week</th>\n",
       "      <th>order_hour_of_day</th>\n",
       "      <th>days_since_prior_order</th>\n",
       "      <th>product_id</th>\n",
       "      <th>add_to_cart_order</th>\n",
       "      <th>reordered</th>\n",
       "    </tr>\n",
       "  </thead>\n",
       "  <tbody>\n",
       "    <tr>\n",
       "      <th>0</th>\n",
       "      <td>2539329</td>\n",
       "      <td>1</td>\n",
       "      <td>1</td>\n",
       "      <td>2</td>\n",
       "      <td>8</td>\n",
       "      <td>NaN</td>\n",
       "      <td>196</td>\n",
       "      <td>1</td>\n",
       "      <td>0</td>\n",
       "    </tr>\n",
       "    <tr>\n",
       "      <th>1</th>\n",
       "      <td>2539329</td>\n",
       "      <td>1</td>\n",
       "      <td>1</td>\n",
       "      <td>2</td>\n",
       "      <td>8</td>\n",
       "      <td>NaN</td>\n",
       "      <td>14084</td>\n",
       "      <td>2</td>\n",
       "      <td>0</td>\n",
       "    </tr>\n",
       "    <tr>\n",
       "      <th>2</th>\n",
       "      <td>2539329</td>\n",
       "      <td>1</td>\n",
       "      <td>1</td>\n",
       "      <td>2</td>\n",
       "      <td>8</td>\n",
       "      <td>NaN</td>\n",
       "      <td>12427</td>\n",
       "      <td>3</td>\n",
       "      <td>0</td>\n",
       "    </tr>\n",
       "    <tr>\n",
       "      <th>3</th>\n",
       "      <td>2539329</td>\n",
       "      <td>1</td>\n",
       "      <td>1</td>\n",
       "      <td>2</td>\n",
       "      <td>8</td>\n",
       "      <td>NaN</td>\n",
       "      <td>26088</td>\n",
       "      <td>4</td>\n",
       "      <td>0</td>\n",
       "    </tr>\n",
       "    <tr>\n",
       "      <th>4</th>\n",
       "      <td>2539329</td>\n",
       "      <td>1</td>\n",
       "      <td>1</td>\n",
       "      <td>2</td>\n",
       "      <td>8</td>\n",
       "      <td>NaN</td>\n",
       "      <td>26405</td>\n",
       "      <td>5</td>\n",
       "      <td>0</td>\n",
       "    </tr>\n",
       "    <tr>\n",
       "      <th>...</th>\n",
       "      <td>...</td>\n",
       "      <td>...</td>\n",
       "      <td>...</td>\n",
       "      <td>...</td>\n",
       "      <td>...</td>\n",
       "      <td>...</td>\n",
       "      <td>...</td>\n",
       "      <td>...</td>\n",
       "      <td>...</td>\n",
       "    </tr>\n",
       "    <tr>\n",
       "      <th>32434484</th>\n",
       "      <td>2977660</td>\n",
       "      <td>206209</td>\n",
       "      <td>13</td>\n",
       "      <td>1</td>\n",
       "      <td>12</td>\n",
       "      <td>7.0</td>\n",
       "      <td>14197</td>\n",
       "      <td>5</td>\n",
       "      <td>1</td>\n",
       "    </tr>\n",
       "    <tr>\n",
       "      <th>32434485</th>\n",
       "      <td>2977660</td>\n",
       "      <td>206209</td>\n",
       "      <td>13</td>\n",
       "      <td>1</td>\n",
       "      <td>12</td>\n",
       "      <td>7.0</td>\n",
       "      <td>38730</td>\n",
       "      <td>6</td>\n",
       "      <td>0</td>\n",
       "    </tr>\n",
       "    <tr>\n",
       "      <th>32434486</th>\n",
       "      <td>2977660</td>\n",
       "      <td>206209</td>\n",
       "      <td>13</td>\n",
       "      <td>1</td>\n",
       "      <td>12</td>\n",
       "      <td>7.0</td>\n",
       "      <td>31477</td>\n",
       "      <td>7</td>\n",
       "      <td>0</td>\n",
       "    </tr>\n",
       "    <tr>\n",
       "      <th>32434487</th>\n",
       "      <td>2977660</td>\n",
       "      <td>206209</td>\n",
       "      <td>13</td>\n",
       "      <td>1</td>\n",
       "      <td>12</td>\n",
       "      <td>7.0</td>\n",
       "      <td>6567</td>\n",
       "      <td>8</td>\n",
       "      <td>0</td>\n",
       "    </tr>\n",
       "    <tr>\n",
       "      <th>32434488</th>\n",
       "      <td>2977660</td>\n",
       "      <td>206209</td>\n",
       "      <td>13</td>\n",
       "      <td>1</td>\n",
       "      <td>12</td>\n",
       "      <td>7.0</td>\n",
       "      <td>22920</td>\n",
       "      <td>9</td>\n",
       "      <td>0</td>\n",
       "    </tr>\n",
       "  </tbody>\n",
       "</table>\n",
       "<p>32434489 rows × 9 columns</p>\n",
       "</div>"
      ],
      "text/plain": [
       "          order_id  user_id  order_number  orders_day_of_week  \\\n",
       "0          2539329        1             1                   2   \n",
       "1          2539329        1             1                   2   \n",
       "2          2539329        1             1                   2   \n",
       "3          2539329        1             1                   2   \n",
       "4          2539329        1             1                   2   \n",
       "...            ...      ...           ...                 ...   \n",
       "32434484   2977660   206209            13                   1   \n",
       "32434485   2977660   206209            13                   1   \n",
       "32434486   2977660   206209            13                   1   \n",
       "32434487   2977660   206209            13                   1   \n",
       "32434488   2977660   206209            13                   1   \n",
       "\n",
       "          order_hour_of_day  days_since_prior_order  product_id  \\\n",
       "0                         8                     NaN         196   \n",
       "1                         8                     NaN       14084   \n",
       "2                         8                     NaN       12427   \n",
       "3                         8                     NaN       26088   \n",
       "4                         8                     NaN       26405   \n",
       "...                     ...                     ...         ...   \n",
       "32434484                 12                     7.0       14197   \n",
       "32434485                 12                     7.0       38730   \n",
       "32434486                 12                     7.0       31477   \n",
       "32434487                 12                     7.0        6567   \n",
       "32434488                 12                     7.0       22920   \n",
       "\n",
       "          add_to_cart_order  reordered  \n",
       "0                         1          0  \n",
       "1                         2          0  \n",
       "2                         3          0  \n",
       "3                         4          0  \n",
       "4                         5          0  \n",
       "...                     ...        ...  \n",
       "32434484                  5          1  \n",
       "32434485                  6          0  \n",
       "32434486                  7          0  \n",
       "32434487                  8          0  \n",
       "32434488                  9          0  \n",
       "\n",
       "[32434489 rows x 9 columns]"
      ]
     },
     "execution_count": 18,
     "metadata": {},
     "output_type": "execute_result"
    }
   ],
   "source": [
    "#removing _merge flag column \n",
    "orders_products_combined = df_ords_clean.merge(df_ords_prior, on = ['order_id'], indicator = False)\n",
    "orders_products_combined"
   ]
  },
  {
   "cell_type": "code",
   "execution_count": 19,
   "id": "0c3bdf2e",
   "metadata": {},
   "outputs": [
    {
     "data": {
      "text/plain": [
       "(32434489, 9)"
      ]
     },
     "execution_count": 19,
     "metadata": {},
     "output_type": "execute_result"
    }
   ],
   "source": [
    "# checking dimensions of imported dataframe\n",
    "orders_products_combined.shape"
   ]
  },
  {
   "cell_type": "markdown",
   "id": "29ce5304",
   "metadata": {},
   "source": [
    "# 5. Import products checked data"
   ]
  },
  {
   "cell_type": "code",
   "execution_count": 20,
   "id": "e7252767",
   "metadata": {},
   "outputs": [],
   "source": [
    "# importing products from prepared data\n",
    "df_prods_clean = pd.read_csv(r'C:\\Users\\kevan\\Documents\\Career Foundry\\Data Immersion\\Achievement 4\\Instacart Basket Analysis\\02 Data\\Prepared Data\\products_checked.csv', index_col = 0)"
   ]
  },
  {
   "cell_type": "markdown",
   "id": "60588ca7",
   "metadata": {},
   "source": [
    "# 6. Combine orders_products_combined with products data set"
   ]
  },
  {
   "cell_type": "code",
   "execution_count": 21,
   "id": "6667a557",
   "metadata": {},
   "outputs": [
    {
     "data": {
      "text/plain": [
       "(49672, 5)"
      ]
     },
     "execution_count": 21,
     "metadata": {},
     "output_type": "execute_result"
    }
   ],
   "source": [
    "# checking shape of cleaned products data frame\n",
    "df_prods_clean.shape"
   ]
  },
  {
   "cell_type": "code",
   "execution_count": 22,
   "id": "3f68946a",
   "metadata": {},
   "outputs": [
    {
     "data": {
      "text/html": [
       "<div>\n",
       "<style scoped>\n",
       "    .dataframe tbody tr th:only-of-type {\n",
       "        vertical-align: middle;\n",
       "    }\n",
       "\n",
       "    .dataframe tbody tr th {\n",
       "        vertical-align: top;\n",
       "    }\n",
       "\n",
       "    .dataframe thead th {\n",
       "        text-align: right;\n",
       "    }\n",
       "</style>\n",
       "<table border=\"1\" class=\"dataframe\">\n",
       "  <thead>\n",
       "    <tr style=\"text-align: right;\">\n",
       "      <th></th>\n",
       "      <th>product_id</th>\n",
       "      <th>product_name</th>\n",
       "      <th>aisle_id</th>\n",
       "      <th>department_id</th>\n",
       "      <th>prices</th>\n",
       "    </tr>\n",
       "  </thead>\n",
       "  <tbody>\n",
       "    <tr>\n",
       "      <th>0</th>\n",
       "      <td>1</td>\n",
       "      <td>Chocolate Sandwich Cookies</td>\n",
       "      <td>61</td>\n",
       "      <td>19</td>\n",
       "      <td>5.8</td>\n",
       "    </tr>\n",
       "  </tbody>\n",
       "</table>\n",
       "</div>"
      ],
      "text/plain": [
       "   product_id                product_name  aisle_id  department_id  prices\n",
       "0           1  Chocolate Sandwich Cookies        61             19     5.8"
      ]
     },
     "execution_count": 22,
     "metadata": {},
     "output_type": "execute_result"
    }
   ],
   "source": [
    "# display .head of products df to see column headers\n",
    "df_prods_clean.head(1)"
   ]
  },
  {
   "cell_type": "code",
   "execution_count": 23,
   "id": "b3acbb3e",
   "metadata": {},
   "outputs": [
    {
     "data": {
      "text/html": [
       "<div>\n",
       "<style scoped>\n",
       "    .dataframe tbody tr th:only-of-type {\n",
       "        vertical-align: middle;\n",
       "    }\n",
       "\n",
       "    .dataframe tbody tr th {\n",
       "        vertical-align: top;\n",
       "    }\n",
       "\n",
       "    .dataframe thead th {\n",
       "        text-align: right;\n",
       "    }\n",
       "</style>\n",
       "<table border=\"1\" class=\"dataframe\">\n",
       "  <thead>\n",
       "    <tr style=\"text-align: right;\">\n",
       "      <th></th>\n",
       "      <th>order_id</th>\n",
       "      <th>user_id</th>\n",
       "      <th>order_number</th>\n",
       "      <th>orders_day_of_week</th>\n",
       "      <th>order_hour_of_day</th>\n",
       "      <th>days_since_prior_order</th>\n",
       "      <th>product_id</th>\n",
       "      <th>add_to_cart_order</th>\n",
       "      <th>reordered</th>\n",
       "    </tr>\n",
       "  </thead>\n",
       "  <tbody>\n",
       "    <tr>\n",
       "      <th>0</th>\n",
       "      <td>2539329</td>\n",
       "      <td>1</td>\n",
       "      <td>1</td>\n",
       "      <td>2</td>\n",
       "      <td>8</td>\n",
       "      <td>NaN</td>\n",
       "      <td>196</td>\n",
       "      <td>1</td>\n",
       "      <td>0</td>\n",
       "    </tr>\n",
       "  </tbody>\n",
       "</table>\n",
       "</div>"
      ],
      "text/plain": [
       "   order_id  user_id  order_number  orders_day_of_week  order_hour_of_day  \\\n",
       "0   2539329        1             1                   2                  8   \n",
       "\n",
       "   days_since_prior_order  product_id  add_to_cart_order  reordered  \n",
       "0                     NaN         196                  1          0  "
      ]
     },
     "execution_count": 23,
     "metadata": {},
     "output_type": "execute_result"
    }
   ],
   "source": [
    "# display .head of orders_products_combined df to see column headers\n",
    "orders_products_combined.head(1)"
   ]
  },
  {
   "cell_type": "markdown",
   "id": "cf28db0d",
   "metadata": {},
   "source": [
    "### Product_id is common column name between both data sets. \n",
    "### Inner join performed using product_id as the key so that matching data is present in final data frame."
   ]
  },
  {
   "cell_type": "code",
   "execution_count": 24,
   "id": "d8172f26",
   "metadata": {},
   "outputs": [],
   "source": [
    "#inner join products dataset to orders_products_combined using product_id column\n",
    "# indicator used to verify that merge is successful\n",
    "\n",
    "df_merged_ord_prod = orders_products_combined.merge(df_prods_clean, on ='product_id', indicator=True)"
   ]
  },
  {
   "cell_type": "markdown",
   "id": "9e4ce57b",
   "metadata": {},
   "source": [
    "### Checking counts of merge values to verify that merge was successful"
   ]
  },
  {
   "cell_type": "code",
   "execution_count": 25,
   "id": "4e2daed9",
   "metadata": {},
   "outputs": [
    {
     "data": {
      "text/plain": [
       "both          32404859\n",
       "left_only            0\n",
       "right_only           0\n",
       "Name: _merge, dtype: int64"
      ]
     },
     "execution_count": 25,
     "metadata": {},
     "output_type": "execute_result"
    }
   ],
   "source": [
    "#all values confirmed to be merged\n",
    "\n",
    "df_merged_ord_prod['_merge'].value_counts()"
   ]
  },
  {
   "cell_type": "code",
   "execution_count": 26,
   "id": "d984b7ca",
   "metadata": {},
   "outputs": [],
   "source": [
    "#removing _merge flag from df\n",
    "\n",
    "df_merged_ord_prod = orders_products_combined.merge(df_prods_clean, on ='product_id')"
   ]
  },
  {
   "cell_type": "markdown",
   "id": "a31acdf1",
   "metadata": {},
   "source": [
    "# 7. Exporting df_merged_ord_prod to pkl"
   ]
  },
  {
   "cell_type": "code",
   "execution_count": 29,
   "id": "1e5aae59",
   "metadata": {},
   "outputs": [],
   "source": [
    "# Export data to pkl\n",
    "\n",
    "df_merged_ord_prod.to_pickle(os.path.join(path, '02 Data','Prepared Data', 'orders_products_merged.pkl'))"
   ]
  }
 ],
 "metadata": {
  "kernelspec": {
   "display_name": "Python 3 (ipykernel)",
   "language": "python",
   "name": "python3"
  },
  "language_info": {
   "codemirror_mode": {
    "name": "ipython",
    "version": 3
   },
   "file_extension": ".py",
   "mimetype": "text/x-python",
   "name": "python",
   "nbconvert_exporter": "python",
   "pygments_lexer": "ipython3",
   "version": "3.11.3"
  }
 },
 "nbformat": 4,
 "nbformat_minor": 5
}
